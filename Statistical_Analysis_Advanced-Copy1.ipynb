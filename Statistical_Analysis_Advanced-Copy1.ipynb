{
 "cells": [
  {
   "cell_type": "code",
   "execution_count": 1,
   "id": "0343621f",
   "metadata": {},
   "outputs": [],
   "source": [
    "# Add Matplotlib inline magic command\n",
    "%matplotlib inline\n",
    "# Dependencies and Setup\n",
    "import pandas as pd\n",
    "import matplotlib.pyplot as plt\n",
    "from scipy.stats import linregress\n",
    "\n",
    "pd.options.display.float_format = '{:,.2f}'.format"
   ]
  },
  {
   "cell_type": "code",
   "execution_count": 2,
   "id": "1abfc852",
   "metadata": {},
   "outputs": [],
   "source": [
    "# Load cleaned_movies into DataFrame\n",
    "movies_df = pd.read_csv('movies_final.csv')\n",
    "#movies_df.head()"
   ]
  },
  {
   "cell_type": "code",
   "execution_count": 3,
   "id": "6aa97d58",
   "metadata": {},
   "outputs": [],
   "source": [
    "# Drop Unnamed column\n",
    "movies_df = movies_df.loc[:,~movies_df.columns.str.contains('^Unnamed')]\n",
    "#movies_df.head()"
   ]
  },
  {
   "cell_type": "markdown",
   "id": "3abd443c",
   "metadata": {},
   "source": [
    "# Categorical Variable Function"
   ]
  },
  {
   "cell_type": "markdown",
   "id": "e15b4bde",
   "metadata": {},
   "source": [
    "## Dataframe Adjustments"
   ]
  },
  {
   "cell_type": "markdown",
   "id": "0e1c1804",
   "metadata": {},
   "source": [
    "### Adjust Count"
   ]
  },
  {
   "cell_type": "code",
   "execution_count": 35,
   "id": "8063e5f4",
   "metadata": {},
   "outputs": [],
   "source": [
    "#Recommended column value counts descriptive stats to determine count parameters\n",
    "#print(movies_df['genre'].value_counts().describe())\n",
    "#movies_df['genre'].value_counts().to_frame().boxplot(vert=False)"
   ]
  },
  {
   "cell_type": "code",
   "execution_count": 12,
   "id": "5fb542a7",
   "metadata": {},
   "outputs": [],
   "source": [
    "#Categorical variable reduction by value_count.  Uses movies_df dataframe  \n",
    "#Insert 1. 'column' in quotes 2. minimum movie apperances (inclusive) 3. maximum movie apperances (inclusive)\n",
    "#Returns a dataframe\n",
    "def reduce_df_count(column, min, max):\n",
    "    df = movies_df[movies_df[column].map(movies_df[column].value_counts()) >= movies_df['genre'].value_counts().quantile(min)]\n",
    "    df = df[df[column].map(df[column].value_counts()) <= movies_df['genre'].value_counts().quantile(max)]\n",
    "    return df"
   ]
  },
  {
   "cell_type": "code",
   "execution_count": 6,
   "id": "08ec0de2",
   "metadata": {},
   "outputs": [],
   "source": [
    "#Categorical variable reduction by median_rating.  Uses movies_df dataframe  \n",
    "#Insert 1. 'column' in quotes 2. minimum movie apperances (inclusive) 3. maximum movie apperances (inclusive)\n",
    "#Returns a dataframe\n",
    "def reduce_df_median(column, min, max):\n",
    "    column_medians = movies_df.groupby([column]).median()['score']\n",
    "    df = movies_df[movies_df[column].map(movies_df.groupby([column]).median()['score']) >= column_medians.quantile(min)]\n",
    "    df = df[df[column].map(df[column].value_counts()) <= column_medians.quantile(max)]\n",
    "    return df"
   ]
  },
  {
   "cell_type": "markdown",
   "id": "856cdf98",
   "metadata": {},
   "source": [
    "### Count ordered"
   ]
  },
  {
   "cell_type": "code",
   "execution_count": 7,
   "id": "f8039aee",
   "metadata": {},
   "outputs": [],
   "source": [
    "#insert dataframe and 'column' in quote\n",
    "def cat_count(df, column):   \n",
    "    #Column values and column value counts\n",
    "    column_counts = df[column].value_counts()\n",
    "    #Put column counts in a dataframe\n",
    "    column_counts_df = pd.DataFrame(column_counts).rename(columns={column: \"Count\"})\n",
    "    #Put the values in a list\n",
    "    column_values_list = column_counts.index.to_list()\n",
    "    \n",
    "    #Get scores by column value\n",
    "    value_scores = []\n",
    "    for value in column_values_list:\n",
    "        value_df = df.loc[df[column] == value]\n",
    "        value_score = value_df['score'].to_list()\n",
    "        value_scores.append(value_score)\n",
    "    \n",
    "    #Bargraph of column counts\n",
    "    length = len(column_values_list)\n",
    "    width = column_counts_df['Count'].max()\n",
    "    column_bar = column_counts_df.plot.barh(figsize = (15, length * .5))\n",
    "    column_bar.set_title(f\"Number of Movies by {column}\",fontsize=20)\n",
    "    column_bar.set_xlabel(\"Count\",fontsize=14)\n",
    "    column_bar.set_ylabel(f\"{column}\",fontsize=14) \n",
    "    column_bar.legend(loc = 'lower right')\n",
    "    plt.gca().invert_yaxis()\n",
    "\n",
    "    #Add counts to bar graph\n",
    "    for i, v in enumerate(column_counts):\n",
    "        column_bar.text(v + 3, i + .25, str(v),\n",
    "            color = 'black', fontweight = 'bold')\n",
    "    \n",
    "    plt.show()\n",
    "    \n",
    "    #Box plot for values and and value scores\n",
    "    y_labels = column_values_list\n",
    "    x_values = value_scores\n",
    "    fig, ax = plt.subplots(figsize=(10, length * .3 ))\n",
    "    ax.set_title(f'Score by {column}', fontsize=20)\n",
    "    ax.set_xlabel(\"Scores\", fontsize=14)\n",
    "    ax.set_ylabel(column, fontsize=14)\n",
    "    ax.boxplot(x_values, labels=y_labels, vert=False)\n",
    "    plt.gca().invert_yaxis()\n",
    "    ax.grid()\n",
    "    # Save the figure.\n",
    "\n",
    "    plt.show()\n",
    "    \n",
    "    print(movies_df.groupby([column]).mean()['score'].describe())"
   ]
  },
  {
   "cell_type": "markdown",
   "id": "7310753f",
   "metadata": {},
   "source": [
    "## Ordered by Median"
   ]
  },
  {
   "cell_type": "markdown",
   "id": "17ccea36",
   "metadata": {},
   "source": [
    "### Median Dataframe Adjustment"
   ]
  },
  {
   "cell_type": "code",
   "execution_count": 9,
   "id": "8e02ab84",
   "metadata": {},
   "outputs": [],
   "source": [
    "#insert dataframe and 'column' in quote\n",
    "def cat_median(df, column):   \n",
    "    #Column values and column value counts\n",
    "    column_counts = df[column].value_counts()\n",
    "    #Put column counts in a dataframe\n",
    "    column_counts_df = pd.DataFrame(column_counts).rename(columns={column: \"Count\"})\n",
    "    column_counts_df = column_counts_df.reset_index()\n",
    "    #Get Medians\n",
    "    median_df = df.groupby([column]).median()[['score']]\n",
    "\n",
    "    #Merge\n",
    "    merged_df = column_counts_df.merge(median_df, left_on='index', right_on=f'{column}')\n",
    "    sorted_df = merged_df.sort_values(by='score')\n",
    "    final_df = sorted_df.set_index('index')\n",
    "\n",
    "    #Put the values in a list\n",
    "    column_values_list = final_df.index.to_list()\n",
    "\n",
    "    #Get scores by column value\n",
    "    value_scores = []\n",
    "    for value in column_values_list:\n",
    "        value_df = df.loc[df[column] == value]\n",
    "        value_score = value_df['score'].to_list()\n",
    "        value_scores.append(value_score)\n",
    "\n",
    "    #Bargraph of column counts\n",
    "    length = len(column_values_list)\n",
    "    column_bar = final_df[['Count']].plot.barh(figsize = (15, length * .5))\n",
    "    column_bar.set_title(f\"Number of Movies by {column}\",fontsize=20)\n",
    "    column_bar.set_xlabel(\"Count\",fontsize=14)\n",
    "    column_bar.set_ylabel(f\"{column}\",fontsize=14) \n",
    "    column_bar.legend(loc = 'lower right')\n",
    "\n",
    "    #Add counts to bar graph\n",
    "    for i, v in enumerate(sorted_df['Count']):\n",
    "        column_bar.text(v + 3, i + .25, str(v),\n",
    "            color = 'black', fontweight = 'bold')\n",
    "\n",
    "    plt.show()\n",
    "\n",
    "    #Box plot for values and and value scores\n",
    "    y_labels = column_values_list\n",
    "    x_values = value_scores\n",
    "    fig, ax = plt.subplots(figsize=(10, length * .3 ))\n",
    "    ax.set_title(f'Score by {column}', fontsize=20)\n",
    "    ax.set_xlabel(\"Scores\", fontsize=14)\n",
    "    ax.set_ylabel(column, fontsize=14)\n",
    "    ax.boxplot(x_values, labels=y_labels, vert=False)\n",
    "    ax.grid()\n",
    "    # Save the figure.\n",
    "\n",
    "    plt.show()\n",
    "\n",
    "    print(df.groupby([column]).mean()['score'].describe())"
   ]
  },
  {
   "cell_type": "markdown",
   "id": "53220409",
   "metadata": {},
   "source": [
    "## Numeric Variable Function"
   ]
  },
  {
   "cell_type": "code",
   "execution_count": 10,
   "id": "78044873",
   "metadata": {},
   "outputs": [],
   "source": [
    "#insert 1. dataframe 2. 'column' in quotes 3/4. min/max display quantile in decimals (ex: .xx) \n",
    "def num_desc(df, column, x_min, x_max):\n",
    "    print(df[column].describe())\n",
    "    \n",
    "    # Create a box-and-whisker plot for the urban cities ride count.\n",
    "    fig, ax = plt.subplots()\n",
    "    ax.boxplot(movies_df[column], labels=[\"\"],vert=False)\n",
    "    # Add the title, y-axis label and grid.\n",
    "    ax.set_title(column, fontsize=20)\n",
    "    ax.set_xlabel('Movie length (min)')\n",
    "    ax.set_xlim(df[column].quantile(x_min), df[column].quantile(x_max))\n",
    "    \n",
    "    ax.grid()\n",
    "    plt.show()\n",
    "    \n",
    "    # Plot actual vs. predicted rating\n",
    "    fig, ax = plt.subplots(figsize=(10, 13))\n",
    "    ax.scatter(movies_df[column], movies_df['score'],)\n",
    "    ax.set_xlim(df[column].quantile(x_min), df[column].quantile(x_max))\n",
    "    plt.title(f'{column} versus Score',fontsize=20)\n",
    "    ax.set_xlabel(column, fontsize=14)\n",
    "    ax.set_ylabel('Scores', fontsize=14)\n",
    "\n",
    "    ax.grid()\n",
    "    plt.show()"
   ]
  },
  {
   "cell_type": "markdown",
   "id": "af449c0b",
   "metadata": {},
   "source": [
    "# Functions"
   ]
  },
  {
   "cell_type": "code",
   "execution_count": null,
   "id": "26fd2167",
   "metadata": {},
   "outputs": [],
   "source": [
    "###Summary of functions\n",
    "##Categofical Descritive Stats Ordered by Count\n",
    "#new_df = reduce_df_count(column, count_min, count_max)\n",
    "#cat_count(df, column)\n",
    "\n",
    "##Categorical Descriptive Stats Ordered by Median\n",
    "#new_df = reduce_df_median(column, percentile_min, percentile_max)\n",
    "#cat_median(df, column)\n",
    "\n",
    "##Numeric Descriptive stats\n",
    "#num_desc(df, column, percentile_min, percentile_max)"
   ]
  },
  {
   "cell_type": "markdown",
   "id": "25e40543",
   "metadata": {},
   "source": [
    "# Analysis"
   ]
  },
  {
   "cell_type": "markdown",
   "id": "2273c3b3",
   "metadata": {},
   "source": [
    "### Ratings"
   ]
  },
  {
   "cell_type": "code",
   "execution_count": 2,
   "id": "7d02ef5e",
   "metadata": {},
   "outputs": [],
   "source": [
    "#num_desc(movies_df, 'score', .00, .999) "
   ]
  },
  {
   "cell_type": "markdown",
   "id": "695b6567",
   "metadata": {},
   "source": [
    "### Star"
   ]
  },
  {
   "cell_type": "code",
   "execution_count": 13,
   "id": "c2107135",
   "metadata": {},
   "outputs": [],
   "source": [
    "#cat_desc(stars_df, 'star')"
   ]
  },
  {
   "cell_type": "markdown",
   "id": "aff40e5b",
   "metadata": {},
   "source": [
    "### Categorical Count"
   ]
  },
  {
   "cell_type": "code",
   "execution_count": 15,
   "id": "babf14fb",
   "metadata": {},
   "outputs": [],
   "source": [
    "new_df = reduce_df_count('star', 2, 999)"
   ]
  },
  {
   "cell_type": "code",
   "execution_count": 16,
   "id": "3382063f",
   "metadata": {},
   "outputs": [
    {
     "data": {
      "text/plain": [
       "count   5,778.00\n",
       "mean        6.42\n",
       "std         0.90\n",
       "min         1.90\n",
       "25%         5.90\n",
       "50%         6.50\n",
       "75%         7.00\n",
       "max         9.30\n",
       "Name: score, dtype: float64"
      ]
     },
     "execution_count": 16,
     "metadata": {},
     "output_type": "execute_result"
    }
   ],
   "source": [
    "new_df['score'].describe()"
   ]
  },
  {
   "cell_type": "markdown",
   "id": "cbf84e82",
   "metadata": {},
   "source": [
    "### Categorical Median"
   ]
  },
  {
   "cell_type": "code",
   "execution_count": 23,
   "id": "3121f84a",
   "metadata": {},
   "outputs": [],
   "source": [
    "new_df = reduce_df_median('genre', 0, 1.0)"
   ]
  },
  {
   "cell_type": "code",
   "execution_count": 24,
   "id": "765c1b08",
   "metadata": {},
   "outputs": [
    {
     "data": {
      "image/png": "[encoded data removed]",
      "text/plain": [
       "<Figure size 1080x144 with 1 Axes>"
      ]
     },
     "metadata": {
      "needs_background": "light"
     },
     "output_type": "display_data"
    },
    {
     "data": {
      "image/png": "[encoded data removed]",
      "text/plain": [
       "<Figure size 720x86.4 with 1 Axes>"
      ]
     },
     "metadata": {
      "needs_background": "light"
     },
     "output_type": "display_data"
    },
    {
     "name": "stdout",
     "output_type": "stream",
     "text": [
      "count   4.00\n",
      "mean    6.67\n",
      "std     1.06\n",
      "min     5.67\n",
      "25%     5.84\n",
      "50%     6.55\n",
      "75%     7.38\n",
      "max     7.90\n",
      "Name: score, dtype: float64\n"
     ]
    }
   ],
   "source": [
    "cat_median(new_df, 'genre')"
   ]
  },
  {
   "cell_type": "code",
   "execution_count": null,
   "id": "3daa557d",
   "metadata": {},
   "outputs": [],
   "source": []
  }
 ],
 "metadata": {
  "kernelspec": {
   "display_name": "Python 3 (ipykernel)",
   "language": "python",
   "name": "python3"
  },
  "language_info": {
   "codemirror_mode": {
    "name": "ipython",
    "version": 3
   },
   "file_extension": ".py",
   "mimetype": "text/x-python",
   "name": "python",
   "nbconvert_exporter": "python",
   "pygments_lexer": "ipython3",
   "version": "3.8.8"
  }
 },
 "nbformat": 4,
 "nbformat_minor": 5
}

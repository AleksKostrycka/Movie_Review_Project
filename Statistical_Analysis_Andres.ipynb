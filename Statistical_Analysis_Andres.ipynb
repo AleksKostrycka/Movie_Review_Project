{
 "cells": [
  {
   "cell_type": "code",
   "execution_count": 1,
   "id": "0343621f",
   "metadata": {},
   "outputs": [],
   "source": [
    "# Add Matplotlib inline magic command\n",
    "%matplotlib inline\n",
    "# Dependencies and Setup\n",
    "import matplotlib.pyplot as plt\n",
    "import pandas as pd"
   ]
  },
  {
   "cell_type": "code",
   "execution_count": 2,
   "id": "1abfc852",
   "metadata": {},
   "outputs": [],
   "source": [
    "# Load cleaned_movies into DataFrame\n",
    "movies_df = pd.read_csv('movies_final.csv')\n",
    "#movies_df.head()"
   ]
  },
  {
   "cell_type": "code",
   "execution_count": 3,
   "id": "6aa97d58",
   "metadata": {},
   "outputs": [],
   "source": [
    "# Drop Unnamed column\n",
    "movies_df = movies_df.loc[:,~movies_df.columns.str.contains('^Unnamed')]\n",
    "#movies_df.head()"
   ]
  },
  {
   "cell_type": "markdown",
   "id": "202c993e",
   "metadata": {},
   "source": [
    "## Boxplot Function"
   ]
  },
  {
   "cell_type": "code",
   "execution_count": 4,
   "id": "e7ffaac7",
   "metadata": {},
   "outputs": [],
   "source": [
    "#Template for column values using genre\n",
    "genre_counts = movies_df['genre'].value_counts()\n",
    "genre_values = genre_counts.index.to_list()\n",
    "#genre_values"
   ]
  },
  {
   "cell_type": "code",
   "execution_count": 5,
   "id": "727356ec",
   "metadata": {},
   "outputs": [],
   "source": [
    "#Template to get scores of a given column value, using genre in this case\n",
    "value_scores = []\n",
    "for value in genre_values:\n",
    "    value_df = movies_df.loc[movies_df['genre'] == value]\n",
    "    value_score = value_df['score'].to_list()\n",
    "    value_scores.append(value_score)"
   ]
  },
  {
   "cell_type": "code",
   "execution_count": 6,
   "id": "22f7bba0",
   "metadata": {},
   "outputs": [],
   "source": [
    "#Template for box plot using genre values and and value scores\n",
    "y_labels = genre_values\n",
    "ride_count_data = value_scores\n",
    "fig, ax = plt.subplots(figsize=(10, 6))\n",
    "ax.set_title(f'Score by Genre',fontsize=20)\n",
    "ax.set_ylabel('Genre',fontsize=14)\n",
    "ax.set_xlabel(\"Scores\",fontsize=14)\n",
    "ax.boxplot(ride_count_data, labels=y_labels, vert=False)\n",
    "plt.gca().invert_yaxis()\n",
    "ax.grid()\n",
    "\n",
    "\n",
    "#plt.show()\n",
    "plt.close()"
   ]
  },
  {
   "cell_type": "markdown",
   "id": "1e85ffee",
   "metadata": {},
   "source": [
    "### Finished Boxplot Function"
   ]
  },
  {
   "cell_type": "code",
   "execution_count": 7,
   "id": "44bd533c",
   "metadata": {},
   "outputs": [],
   "source": [
    "#insert dataframe and 'column' in quotes\n",
    "def box_plot(df, column):\n",
    "    #Column values using genre\n",
    "    column_counts = df[column].value_counts()\n",
    "    column_values = column_counts.index.to_list()\n",
    "\n",
    "    #Template to get scores of a given column value, using genre in this case\n",
    "    value_scores = []\n",
    "    for value in column_values:\n",
    "        value_df = df.loc[df[column] == value]\n",
    "        value_score = value_df['score'].to_list()\n",
    "        value_scores.append(value_score)\n",
    "\n",
    "    #Template for box plot using genre values and and value scores\n",
    "    y_labels = column_values\n",
    "    ride_count_data = value_scores\n",
    "    fig, ax = plt.subplots(figsize=(10, len(column_values) * .3 ))\n",
    "    ax.set_title(f'Score by {column}',fontsize=20)\n",
    "    ax.set_ylabel(f'{column}',fontsize=14)\n",
    "    ax.set_xlabel(\"Scores\",fontsize=14)\n",
    "    ax.boxplot(ride_count_data, labels=y_labels, vert=False)\n",
    "    plt.gca().invert_yaxis()\n",
    "    ax.grid()\n",
    "    # Save the figure.\n",
    "\n",
    "    plt.show()"
   ]
  },
  {
   "cell_type": "code",
   "execution_count": 8,
   "id": "2ddc43ac",
   "metadata": {},
   "outputs": [],
   "source": [
    "def frequency(df, column):\n",
    "    column_count = movies_df.groupby([column]).count()[['name']].sort_values(by='name').rename(columns={\"name\": \"count\"})\n",
    "    \n",
    "    length = 10\n",
    "    width =movies_by_genre['count'].max()\n",
    "    genre_bar = movies_by_genre.plot.barh(figsize = (width * .005, length))\n",
    "    genre_bar.set_title(f\"Number of Movies by {column}\")\n",
    "    genre_bar.set_xlabel(\"Count\")\n",
    "    genre_bar.set_ylabel(f\"{column}\")"
   ]
  },
  {
   "cell_type": "code",
   "execution_count": 9,
   "id": "4a0f6661",
   "metadata": {},
   "outputs": [
    {
     "data": {
      "text/html": [
       "<div>\n",
       "<style scoped>\n",
       "    .dataframe tbody tr th:only-of-type {\n",
       "        vertical-align: middle;\n",
       "    }\n",
       "\n",
       "    .dataframe tbody tr th {\n",
       "        vertical-align: top;\n",
       "    }\n",
       "\n",
       "    .dataframe thead th {\n",
       "        text-align: right;\n",
       "    }\n",
       "</style>\n",
       "<table border=\"1\" class=\"dataframe\">\n",
       "  <thead>\n",
       "    <tr style=\"text-align: right;\">\n",
       "      <th></th>\n",
       "      <th>Count</th>\n",
       "    </tr>\n",
       "  </thead>\n",
       "  <tbody>\n",
       "    <tr>\n",
       "      <th>Comedy</th>\n",
       "      <td>2182</td>\n",
       "    </tr>\n",
       "    <tr>\n",
       "      <th>Action</th>\n",
       "      <td>1666</td>\n",
       "    </tr>\n",
       "    <tr>\n",
       "      <th>Drama</th>\n",
       "      <td>1439</td>\n",
       "    </tr>\n",
       "    <tr>\n",
       "      <th>Crime</th>\n",
       "      <td>536</td>\n",
       "    </tr>\n",
       "    <tr>\n",
       "      <th>Biography</th>\n",
       "      <td>429</td>\n",
       "    </tr>\n",
       "    <tr>\n",
       "      <th>Adventure</th>\n",
       "      <td>419</td>\n",
       "    </tr>\n",
       "    <tr>\n",
       "      <th>Animation</th>\n",
       "      <td>331</td>\n",
       "    </tr>\n",
       "    <tr>\n",
       "      <th>Horror</th>\n",
       "      <td>304</td>\n",
       "    </tr>\n",
       "    <tr>\n",
       "      <th>Fantasy</th>\n",
       "      <td>42</td>\n",
       "    </tr>\n",
       "    <tr>\n",
       "      <th>Mystery</th>\n",
       "      <td>20</td>\n",
       "    </tr>\n",
       "    <tr>\n",
       "      <th>Thriller</th>\n",
       "      <td>12</td>\n",
       "    </tr>\n",
       "    <tr>\n",
       "      <th>Family</th>\n",
       "      <td>10</td>\n",
       "    </tr>\n",
       "    <tr>\n",
       "      <th>Romance</th>\n",
       "      <td>8</td>\n",
       "    </tr>\n",
       "    <tr>\n",
       "      <th>Sci-Fi</th>\n",
       "      <td>8</td>\n",
       "    </tr>\n",
       "    <tr>\n",
       "      <th>Western</th>\n",
       "      <td>3</td>\n",
       "    </tr>\n",
       "    <tr>\n",
       "      <th>Sport</th>\n",
       "      <td>1</td>\n",
       "    </tr>\n",
       "    <tr>\n",
       "      <th>Music</th>\n",
       "      <td>1</td>\n",
       "    </tr>\n",
       "    <tr>\n",
       "      <th>Musical</th>\n",
       "      <td>1</td>\n",
       "    </tr>\n",
       "  </tbody>\n",
       "</table>\n",
       "</div>"
      ],
      "text/plain": [
       "           Count\n",
       "Comedy      2182\n",
       "Action      1666\n",
       "Drama       1439\n",
       "Crime        536\n",
       "Biography    429\n",
       "Adventure    419\n",
       "Animation    331\n",
       "Horror       304\n",
       "Fantasy       42\n",
       "Mystery       20\n",
       "Thriller      12\n",
       "Family        10\n",
       "Romance        8\n",
       "Sci-Fi         8\n",
       "Western        3\n",
       "Sport          1\n",
       "Music          1\n",
       "Musical        1"
      ]
     },
     "execution_count": 9,
     "metadata": {},
     "output_type": "execute_result"
    }
   ],
   "source": [
    "column_counts = movies_df['genre'].value_counts()\n",
    "column_values = column_counts.index.to_list()\n",
    "pd.DataFrame(column_counts).rename(columns={\"genre\": \"Count\"})"
   ]
  },
  {
   "cell_type": "code",
   "execution_count": 12,
   "id": "f8039aee",
   "metadata": {},
   "outputs": [],
   "source": [
    "def cat_desc(df, column):   \n",
    "    #Column values and column value counts\n",
    "    column_counts = df[column].value_counts()\n",
    "    #Put column counts in a dataframe\n",
    "    column_counts_df = pd.DataFrame(column_counts).rename(columns={\"genre\": \"Count\"})\n",
    "    #Put the values in a list\n",
    "    column_values_list = column_counts.index.to_list()\n",
    "    \n",
    "    #Get scores by column value\n",
    "    value_scores = []\n",
    "    for value in column_values_list:\n",
    "        value_df = df.loc[df[column] == value]\n",
    "        value_score = value_df['score'].to_list()\n",
    "        value_scores.append(value_score)\n",
    "    \n",
    "    #Bargraph of column counts\n",
    "    length = len(column_values_list)\n",
    "    width = column_counts_df['Count'].max()\n",
    "    genre_bar = column_counts_df.plot.barh(figsize = (width * .005, length * .3))\n",
    "    genre_bar.set_title(f\"Number of Movies by {column}\")\n",
    "    genre_bar.set_xlabel(\"Count\")\n",
    "    genre_bar.set_ylabel(f\"{column}\") \n",
    "    plt.gca().invert_yaxis()\n",
    "    \n",
    "    plt.show()\n",
    "    \n",
    "    #Template for box plot for values and and value scores\n",
    "    y_labels = column_values\n",
    "    ride_count_data = value_scores\n",
    "    fig, ax = plt.subplots(figsize=(10, length * .3 ))\n",
    "    ax.set_title(f'Score by {column}',fontsize=20)\n",
    "    ax.set_ylabel(f'{column}',fontsize=14)\n",
    "    ax.set_xlabel(\"Scores\",fontsize=14)\n",
    "    ax.boxplot(ride_count_data, labels=y_labels, vert=False)\n",
    "    plt.gca().invert_yaxis()\n",
    "    ax.grid()\n",
    "    # Save the figure.\n",
    "\n",
    "    plt.show()"
   ]
  },
  {
   "cell_type": "code",
   "execution_count": 13,
   "id": "f4435e91",
   "metadata": {},
   "outputs": [
    {
     "data": {
      "image/png": "[encoded data removed]",
      "text/plain": [
       "<Figure size 785.52x388.8 with 1 Axes>"
      ]
     },
     "metadata": {
      "needs_background": "light"
     },
     "output_type": "display_data"
    },
    {
     "data": {
      "image/png": "[encoded data removed]",
      "text/plain": [
       "<Figure size 720x388.8 with 1 Axes>"
      ]
     },
     "metadata": {
      "needs_background": "light"
     },
     "output_type": "display_data"
    }
   ],
   "source": [
    "cat_desc(movies_df, 'genre')"
   ]
  },
  {
   "cell_type": "markdown",
   "id": "25e40543",
   "metadata": {},
   "source": [
    "# Analysis"
   ]
  },
  {
   "cell_type": "markdown",
   "id": "695b6567",
   "metadata": {},
   "source": [
    "### Genre"
   ]
  },
  {
   "cell_type": "code",
   "execution_count": 173,
   "id": "693d992a",
   "metadata": {},
   "outputs": [
    {
     "data": {
      "text/html": [
       "<div>\n",
       "<style scoped>\n",
       "    .dataframe tbody tr th:only-of-type {\n",
       "        vertical-align: middle;\n",
       "    }\n",
       "\n",
       "    .dataframe tbody tr th {\n",
       "        vertical-align: top;\n",
       "    }\n",
       "\n",
       "    .dataframe thead th {\n",
       "        text-align: right;\n",
       "    }\n",
       "</style>\n",
       "<table border=\"1\" class=\"dataframe\">\n",
       "  <thead>\n",
       "    <tr style=\"text-align: right;\">\n",
       "      <th></th>\n",
       "      <th>count</th>\n",
       "    </tr>\n",
       "    <tr>\n",
       "      <th>genre</th>\n",
       "      <th></th>\n",
       "    </tr>\n",
       "  </thead>\n",
       "  <tbody>\n",
       "    <tr>\n",
       "      <th>Sport</th>\n",
       "      <td>1</td>\n",
       "    </tr>\n",
       "    <tr>\n",
       "      <th>Musical</th>\n",
       "      <td>1</td>\n",
       "    </tr>\n",
       "    <tr>\n",
       "      <th>Music</th>\n",
       "      <td>1</td>\n",
       "    </tr>\n",
       "    <tr>\n",
       "      <th>Western</th>\n",
       "      <td>3</td>\n",
       "    </tr>\n",
       "    <tr>\n",
       "      <th>Sci-Fi</th>\n",
       "      <td>8</td>\n",
       "    </tr>\n",
       "    <tr>\n",
       "      <th>Romance</th>\n",
       "      <td>8</td>\n",
       "    </tr>\n",
       "    <tr>\n",
       "      <th>Family</th>\n",
       "      <td>10</td>\n",
       "    </tr>\n",
       "    <tr>\n",
       "      <th>Thriller</th>\n",
       "      <td>12</td>\n",
       "    </tr>\n",
       "    <tr>\n",
       "      <th>Mystery</th>\n",
       "      <td>20</td>\n",
       "    </tr>\n",
       "    <tr>\n",
       "      <th>Fantasy</th>\n",
       "      <td>42</td>\n",
       "    </tr>\n",
       "    <tr>\n",
       "      <th>Horror</th>\n",
       "      <td>304</td>\n",
       "    </tr>\n",
       "    <tr>\n",
       "      <th>Animation</th>\n",
       "      <td>331</td>\n",
       "    </tr>\n",
       "    <tr>\n",
       "      <th>Adventure</th>\n",
       "      <td>419</td>\n",
       "    </tr>\n",
       "    <tr>\n",
       "      <th>Biography</th>\n",
       "      <td>429</td>\n",
       "    </tr>\n",
       "    <tr>\n",
       "      <th>Crime</th>\n",
       "      <td>536</td>\n",
       "    </tr>\n",
       "    <tr>\n",
       "      <th>Drama</th>\n",
       "      <td>1439</td>\n",
       "    </tr>\n",
       "    <tr>\n",
       "      <th>Action</th>\n",
       "      <td>1666</td>\n",
       "    </tr>\n",
       "    <tr>\n",
       "      <th>Comedy</th>\n",
       "      <td>2182</td>\n",
       "    </tr>\n",
       "  </tbody>\n",
       "</table>\n",
       "</div>"
      ],
      "text/plain": [
       "           count\n",
       "genre           \n",
       "Sport          1\n",
       "Musical        1\n",
       "Music          1\n",
       "Western        3\n",
       "Sci-Fi         8\n",
       "Romance        8\n",
       "Family        10\n",
       "Thriller      12\n",
       "Mystery       20\n",
       "Fantasy       42\n",
       "Horror       304\n",
       "Animation    331\n",
       "Adventure    419\n",
       "Biography    429\n",
       "Crime        536\n",
       "Drama       1439\n",
       "Action      1666\n",
       "Comedy      2182"
      ]
     },
     "execution_count": 173,
     "metadata": {},
     "output_type": "execute_result"
    }
   ],
   "source": [
    "# Get total number of movies by genre\n",
    "movies_by_genre = movies_df.groupby(['genre']).count()[['name']].sort_values(by='name').rename(columns={\"name\": \"count\"})\n",
    "movies_by_genre"
   ]
  },
  {
   "cell_type": "code",
   "execution_count": 174,
   "id": "516f4304",
   "metadata": {},
   "outputs": [
    {
     "data": {
      "text/plain": [
       "Text(0, 0.5, 'Rides')"
      ]
     },
     "execution_count": 174,
     "metadata": {},
     "output_type": "execute_result"
    },
    {
     "data": {
      "image/png": "[encoded data removed]",
      "text/plain": [
       "<Figure size 1440x432 with 1 Axes>"
      ]
     },
     "metadata": {
      "needs_background": "light"
     },
     "output_type": "display_data"
    }
   ],
   "source": [
    "genre_bar = movies_by_genre.plot.bar(figsize = (20,6))\n",
    "genre_bar.set_title(\"Number of Rides by Gender\")\n",
    "genre_bar.set_xlabel(\"Month\")\n",
    "genre_bar.set_ylabel(\"Rides\")\n"
   ]
  },
  {
   "cell_type": "code",
   "execution_count": 200,
   "id": "f9ca838a",
   "metadata": {},
   "outputs": [],
   "source": [
    "def frequency(df, column):\n",
    "    column_count = movies_df.groupby([column]).count()[['name']].sort_values(by='name').rename(columns={\"name\": \"count\"})\n",
    "    \n",
    "    length = 10\n",
    "    width =movies_by_genre['count'].max()\n",
    "    genre_bar = movies_by_genre.plot.barh(figsize = (width * .005, length))\n",
    "    genre_bar.set_title(f\"Number of Movies by {column}\")\n",
    "    genre_bar.set_xlabel(\"Count\")\n",
    "    genre_bar.set_ylabel(f\"{column}\")"
   ]
  },
  {
   "cell_type": "code",
   "execution_count": 191,
   "id": "a830b0e8",
   "metadata": {},
   "outputs": [
    {
     "data": {
      "text/html": [
       "<div>\n",
       "<style scoped>\n",
       "    .dataframe tbody tr th:only-of-type {\n",
       "        vertical-align: middle;\n",
       "    }\n",
       "\n",
       "    .dataframe tbody tr th {\n",
       "        vertical-align: top;\n",
       "    }\n",
       "\n",
       "    .dataframe thead th {\n",
       "        text-align: right;\n",
       "    }\n",
       "</style>\n",
       "<table border=\"1\" class=\"dataframe\">\n",
       "  <thead>\n",
       "    <tr style=\"text-align: right;\">\n",
       "      <th></th>\n",
       "      <th>count</th>\n",
       "    </tr>\n",
       "    <tr>\n",
       "      <th>genre</th>\n",
       "      <th></th>\n",
       "    </tr>\n",
       "  </thead>\n",
       "  <tbody>\n",
       "    <tr>\n",
       "      <th>Sport</th>\n",
       "      <td>1</td>\n",
       "    </tr>\n",
       "    <tr>\n",
       "      <th>Musical</th>\n",
       "      <td>1</td>\n",
       "    </tr>\n",
       "    <tr>\n",
       "      <th>Music</th>\n",
       "      <td>1</td>\n",
       "    </tr>\n",
       "    <tr>\n",
       "      <th>Western</th>\n",
       "      <td>3</td>\n",
       "    </tr>\n",
       "    <tr>\n",
       "      <th>Sci-Fi</th>\n",
       "      <td>8</td>\n",
       "    </tr>\n",
       "    <tr>\n",
       "      <th>Romance</th>\n",
       "      <td>8</td>\n",
       "    </tr>\n",
       "    <tr>\n",
       "      <th>Family</th>\n",
       "      <td>10</td>\n",
       "    </tr>\n",
       "    <tr>\n",
       "      <th>Thriller</th>\n",
       "      <td>12</td>\n",
       "    </tr>\n",
       "    <tr>\n",
       "      <th>Mystery</th>\n",
       "      <td>20</td>\n",
       "    </tr>\n",
       "    <tr>\n",
       "      <th>Fantasy</th>\n",
       "      <td>42</td>\n",
       "    </tr>\n",
       "    <tr>\n",
       "      <th>Horror</th>\n",
       "      <td>304</td>\n",
       "    </tr>\n",
       "    <tr>\n",
       "      <th>Animation</th>\n",
       "      <td>331</td>\n",
       "    </tr>\n",
       "    <tr>\n",
       "      <th>Adventure</th>\n",
       "      <td>419</td>\n",
       "    </tr>\n",
       "    <tr>\n",
       "      <th>Biography</th>\n",
       "      <td>429</td>\n",
       "    </tr>\n",
       "    <tr>\n",
       "      <th>Crime</th>\n",
       "      <td>536</td>\n",
       "    </tr>\n",
       "    <tr>\n",
       "      <th>Drama</th>\n",
       "      <td>1439</td>\n",
       "    </tr>\n",
       "    <tr>\n",
       "      <th>Action</th>\n",
       "      <td>1666</td>\n",
       "    </tr>\n",
       "    <tr>\n",
       "      <th>Comedy</th>\n",
       "      <td>2182</td>\n",
       "    </tr>\n",
       "  </tbody>\n",
       "</table>\n",
       "</div>"
      ],
      "text/plain": [
       "           count\n",
       "genre           \n",
       "Sport          1\n",
       "Musical        1\n",
       "Music          1\n",
       "Western        3\n",
       "Sci-Fi         8\n",
       "Romance        8\n",
       "Family        10\n",
       "Thriller      12\n",
       "Mystery       20\n",
       "Fantasy       42\n",
       "Horror       304\n",
       "Animation    331\n",
       "Adventure    419\n",
       "Biography    429\n",
       "Crime        536\n",
       "Drama       1439\n",
       "Action      1666\n",
       "Comedy      2182"
      ]
     },
     "execution_count": 191,
     "metadata": {},
     "output_type": "execute_result"
    }
   ],
   "source": [
    "column_count = movies_df.groupby(['genre']).count()[['name']].sort_values(by='name').rename(columns={\"name\": \"count\"})\n",
    "column_count"
   ]
  },
  {
   "cell_type": "code",
   "execution_count": 201,
   "id": "883d0a8b",
   "metadata": {},
   "outputs": [
    {
     "data": {
      "image/png": "[encoded data removed]",
      "text/plain": [
       "<Figure size 785.52x720 with 1 Axes>"
      ]
     },
     "metadata": {
      "needs_background": "light"
     },
     "output_type": "display_data"
    }
   ],
   "source": [
    "frequency(movies_df, 'genre')"
   ]
  },
  {
   "cell_type": "code",
   "execution_count": null,
   "id": "5716269d",
   "metadata": {},
   "outputs": [],
   "source": []
  },
  {
   "cell_type": "code",
   "execution_count": null,
   "id": "e53e58c9",
   "metadata": {},
   "outputs": [],
   "source": []
  },
  {
   "cell_type": "code",
   "execution_count": 156,
   "id": "0a32b36b",
   "metadata": {},
   "outputs": [
    {
     "data": {
      "image/png": "[encoded data removed]",
      "text/plain": [
       "<Figure size 720x388.8 with 1 Axes>"
      ]
     },
     "metadata": {
      "needs_background": "light"
     },
     "output_type": "display_data"
    }
   ],
   "source": [
    "box_plot(movies_df, 'genre')"
   ]
  },
  {
   "cell_type": "markdown",
   "id": "5b047536",
   "metadata": {},
   "source": [
    "# Carolines Analysis"
   ]
  },
  {
   "cell_type": "code",
   "execution_count": 94,
   "id": "5d44d922",
   "metadata": {},
   "outputs": [
    {
     "data": {
      "text/plain": [
       "genre\n",
       "Action       6.213205\n",
       "Adventure    6.290453\n",
       "Animation    6.762236\n",
       "Biography    7.042191\n",
       "Comedy       6.199083\n",
       "Crime        6.681157\n",
       "Drama        6.695344\n",
       "Family       6.540000\n",
       "Fantasy      6.050000\n",
       "Horror       5.787171\n",
       "Music        7.200000\n",
       "Musical      7.900000\n",
       "Mystery      6.665000\n",
       "Romance      6.500000\n",
       "Sci-Fi       6.387500\n",
       "Sport        5.900000\n",
       "Thriller     6.025000\n",
       "Western      5.666667\n",
       "Name: score, dtype: float64"
      ]
     },
     "execution_count": 94,
     "metadata": {},
     "output_type": "execute_result"
    }
   ],
   "source": [
    "# Get average IMDb score by genre\n",
    "score_by_genre = movies_df.groupby(['genre']).mean()['score']\n",
    "score_by_genre"
   ]
  },
  {
   "cell_type": "code",
   "execution_count": 171,
   "id": "68299a81",
   "metadata": {},
   "outputs": [
    {
     "data": {
      "text/html": [
       "<div>\n",
       "<style scoped>\n",
       "    .dataframe tbody tr th:only-of-type {\n",
       "        vertical-align: middle;\n",
       "    }\n",
       "\n",
       "    .dataframe tbody tr th {\n",
       "        vertical-align: top;\n",
       "    }\n",
       "\n",
       "    .dataframe thead th {\n",
       "        text-align: right;\n",
       "    }\n",
       "</style>\n",
       "<table border=\"1\" class=\"dataframe\">\n",
       "  <thead>\n",
       "    <tr style=\"text-align: right;\">\n",
       "      <th></th>\n",
       "      <th>name</th>\n",
       "    </tr>\n",
       "    <tr>\n",
       "      <th>genre</th>\n",
       "      <th></th>\n",
       "    </tr>\n",
       "  </thead>\n",
       "  <tbody>\n",
       "    <tr>\n",
       "      <th>Sport</th>\n",
       "      <td>1</td>\n",
       "    </tr>\n",
       "    <tr>\n",
       "      <th>Musical</th>\n",
       "      <td>1</td>\n",
       "    </tr>\n",
       "    <tr>\n",
       "      <th>Music</th>\n",
       "      <td>1</td>\n",
       "    </tr>\n",
       "    <tr>\n",
       "      <th>Western</th>\n",
       "      <td>3</td>\n",
       "    </tr>\n",
       "    <tr>\n",
       "      <th>Sci-Fi</th>\n",
       "      <td>8</td>\n",
       "    </tr>\n",
       "    <tr>\n",
       "      <th>Romance</th>\n",
       "      <td>8</td>\n",
       "    </tr>\n",
       "    <tr>\n",
       "      <th>Family</th>\n",
       "      <td>10</td>\n",
       "    </tr>\n",
       "    <tr>\n",
       "      <th>Thriller</th>\n",
       "      <td>12</td>\n",
       "    </tr>\n",
       "    <tr>\n",
       "      <th>Mystery</th>\n",
       "      <td>20</td>\n",
       "    </tr>\n",
       "    <tr>\n",
       "      <th>Fantasy</th>\n",
       "      <td>42</td>\n",
       "    </tr>\n",
       "    <tr>\n",
       "      <th>Horror</th>\n",
       "      <td>304</td>\n",
       "    </tr>\n",
       "    <tr>\n",
       "      <th>Animation</th>\n",
       "      <td>331</td>\n",
       "    </tr>\n",
       "    <tr>\n",
       "      <th>Adventure</th>\n",
       "      <td>419</td>\n",
       "    </tr>\n",
       "    <tr>\n",
       "      <th>Biography</th>\n",
       "      <td>429</td>\n",
       "    </tr>\n",
       "    <tr>\n",
       "      <th>Crime</th>\n",
       "      <td>536</td>\n",
       "    </tr>\n",
       "    <tr>\n",
       "      <th>Drama</th>\n",
       "      <td>1439</td>\n",
       "    </tr>\n",
       "    <tr>\n",
       "      <th>Action</th>\n",
       "      <td>1666</td>\n",
       "    </tr>\n",
       "    <tr>\n",
       "      <th>Comedy</th>\n",
       "      <td>2182</td>\n",
       "    </tr>\n",
       "  </tbody>\n",
       "</table>\n",
       "</div>"
      ],
      "text/plain": [
       "           name\n",
       "genre          \n",
       "Sport         1\n",
       "Musical       1\n",
       "Music         1\n",
       "Western       3\n",
       "Sci-Fi        8\n",
       "Romance       8\n",
       "Family       10\n",
       "Thriller     12\n",
       "Mystery      20\n",
       "Fantasy      42\n",
       "Horror      304\n",
       "Animation   331\n",
       "Adventure   419\n",
       "Biography   429\n",
       "Crime       536\n",
       "Drama      1439\n",
       "Action     1666\n",
       "Comedy     2182"
      ]
     },
     "execution_count": 171,
     "metadata": {},
     "output_type": "execute_result"
    }
   ],
   "source": [
    "# Get total number of movies by genre\n",
    "movies_by_genre = movies_df.groupby(['genre']).count()[['name']].sort_values(by='name')\n",
    "movies_by_genre"
   ]
  },
  {
   "cell_type": "code",
   "execution_count": 172,
   "id": "35d7e5de",
   "metadata": {},
   "outputs": [
    {
     "data": {
      "text/plain": [
       "2182"
      ]
     },
     "execution_count": 172,
     "metadata": {},
     "output_type": "execute_result"
    }
   ],
   "source": [
    "movies_by_genre['name'].max()"
   ]
  },
  {
   "cell_type": "code",
   "execution_count": 168,
   "id": "260a84eb",
   "metadata": {},
   "outputs": [
    {
     "data": {
      "text/plain": [
       "Text(0, 0.5, 'Rides')"
      ]
     },
     "execution_count": 168,
     "metadata": {},
     "output_type": "execute_result"
    },
    {
     "data": {
      "image/png": "[encoded data removed]",
      "text/plain": [
       "<Figure size 1440x720 with 1 Axes>"
      ]
     },
     "metadata": {
      "needs_background": "light"
     },
     "output_type": "display_data"
    }
   ],
   "source": [
    "genre_bar = movies_by_genre.plot.barh(figsize = (20,10))\n",
    "genre_bar.set_title(\"Number of Rides by Gender\")\n",
    "genre_bar.set_xlabel(\"Month\")\n",
    "genre_bar.set_ylabel(\"Rides\")"
   ]
  },
  {
   "cell_type": "code",
   "execution_count": null,
   "id": "576e8f3d",
   "metadata": {},
   "outputs": [],
   "source": []
  },
  {
   "cell_type": "code",
   "execution_count": 142,
   "id": "5ea7f78c",
   "metadata": {},
   "outputs": [
    {
     "data": {
      "image/png": "[encoded data removed]",
      "text/plain": [
       "<Figure size 432x288 with 1 Axes>"
      ]
     },
     "metadata": {
      "needs_background": "light"
     },
     "output_type": "display_data"
    }
   ],
   "source": [
    "# Plot scores by genre bar graph\n",
    "plt.bar(score_by_genre.index, score_by_genre.values)\n",
    "plt.ylabel('IMDb rating')\n",
    "plt.xlabel('Genre')\n",
    "plt.title('IMDb rating by Genre')\n",
    "plt.xticks(rotation=90)\n",
    "plt.show()"
   ]
  },
  {
   "cell_type": "code",
   "execution_count": null,
   "id": "cb0ffba5",
   "metadata": {},
   "outputs": [],
   "source": [
    "# Create a box-and-whisker plot for the urban cities ride count.\n",
    "x_labels = [\"Action\"]\n",
    "fig, ax = plt.subplots()\n",
    "ax.boxplot(urban_ride_count, labels=x_labels)\n",
    "# Add the title, y-axis label and grid.\n",
    "ax.set_title('Ride Count Data (2019)')\n",
    "ax.set_ylabel('Number of Rides')\n",
    "ax.set_yticks(np.arange(10, 41, step=2.0))\n",
    "ax.grid()\n",
    "plt.show()"
   ]
  },
  {
   "cell_type": "code",
   "execution_count": 8,
   "id": "72e039f3",
   "metadata": {},
   "outputs": [
    {
     "data": {
      "text/plain": [
       "year\n",
       "1980    6.292500\n",
       "1981    6.332039\n",
       "1982    6.312712\n",
       "1983    6.066142\n",
       "1984    6.174839\n",
       "1985    6.357627\n",
       "1986    6.185165\n",
       "1987    6.242473\n",
       "1988    6.286387\n",
       "1989    6.211828\n",
       "1990    6.317989\n",
       "1991    6.395897\n",
       "1992    6.409524\n",
       "1993    6.388205\n",
       "1994    6.313636\n",
       "1995    6.453061\n",
       "1996    6.237374\n",
       "1997    6.327551\n",
       "1998    6.447938\n",
       "1999    6.491192\n",
       "2000    6.339896\n",
       "2001    6.440102\n",
       "2002    6.359000\n",
       "2003    6.327919\n",
       "2004    6.510553\n",
       "2005    6.363000\n",
       "2006    6.463819\n",
       "2007    6.472864\n",
       "2008    6.383417\n",
       "2009    6.444500\n",
       "2010    6.462944\n",
       "2011    6.481407\n",
       "2012    6.478894\n",
       "2013    6.619000\n",
       "2014    6.590000\n",
       "2015    6.512755\n",
       "2016    6.630653\n",
       "2017    6.557286\n",
       "2018    6.482915\n",
       "2019    6.380000\n",
       "2020    6.115385\n",
       "Name: score, dtype: float64"
      ]
     },
     "execution_count": 8,
     "metadata": {},
     "output_type": "execute_result"
    }
   ],
   "source": [
    "# Get average IMDb score by year\n",
    "score_by_year = movies_df.groupby(['year']).mean()['score']\n",
    "score_by_year"
   ]
  },
  {
   "cell_type": "code",
   "execution_count": 9,
   "id": "64cb4b18",
   "metadata": {},
   "outputs": [
    {
     "data": {
      "text/plain": [
       "year\n",
       "1980     80\n",
       "1981    103\n",
       "1982    118\n",
       "1983    127\n",
       "1984    155\n",
       "1985    177\n",
       "1986    182\n",
       "1987    186\n",
       "1988    191\n",
       "1989    186\n",
       "1990    189\n",
       "1991    195\n",
       "1992    189\n",
       "1993    195\n",
       "1994    198\n",
       "1995    196\n",
       "1996    198\n",
       "1997    196\n",
       "1998    194\n",
       "1999    193\n",
       "2000    193\n",
       "2001    197\n",
       "2002    200\n",
       "2003    197\n",
       "2004    199\n",
       "2005    200\n",
       "2006    199\n",
       "2007    199\n",
       "2008    199\n",
       "2009    200\n",
       "2010    197\n",
       "2011    199\n",
       "2012    199\n",
       "2013    200\n",
       "2014    200\n",
       "2015    196\n",
       "2016    199\n",
       "2017    199\n",
       "2018    199\n",
       "2019    180\n",
       "2020     13\n",
       "Name: name, dtype: int64"
      ]
     },
     "execution_count": 9,
     "metadata": {},
     "output_type": "execute_result"
    }
   ],
   "source": [
    "# Get total number of movies by year\n",
    "movies_by_year = movies_df.groupby(['year']).count()['name']\n",
    "movies_by_year"
   ]
  },
  {
   "cell_type": "code",
   "execution_count": 10,
   "id": "6ecfd20a",
   "metadata": {},
   "outputs": [
    {
     "data": {
      "image/png": "[encoded data removed]",
      "text/plain": [
       "<Figure size 432x288 with 1 Axes>"
      ]
     },
     "metadata": {
      "needs_background": "light"
     },
     "output_type": "display_data"
    }
   ],
   "source": [
    "# Plot scores by year bar graph\n",
    "plt.bar(score_by_year.index, score_by_year.values)\n",
    "plt.ylabel('IMDb rating')\n",
    "plt.xlabel('Year')\n",
    "plt.title('IMDb rating by Year')\n",
    "plt.xticks(rotation=90)\n",
    "plt.show()"
   ]
  },
  {
   "cell_type": "code",
   "execution_count": 11,
   "id": "d1fa8136",
   "metadata": {},
   "outputs": [
    {
     "data": {
      "text/html": [
       "<div>\n",
       "<style scoped>\n",
       "    .dataframe tbody tr th:only-of-type {\n",
       "        vertical-align: middle;\n",
       "    }\n",
       "\n",
       "    .dataframe tbody tr th {\n",
       "        vertical-align: top;\n",
       "    }\n",
       "\n",
       "    .dataframe thead th {\n",
       "        text-align: right;\n",
       "    }\n",
       "</style>\n",
       "<table border=\"1\" class=\"dataframe\">\n",
       "  <thead>\n",
       "    <tr style=\"text-align: right;\">\n",
       "      <th></th>\n",
       "      <th>name</th>\n",
       "      <th>rating</th>\n",
       "      <th>genre</th>\n",
       "      <th>year</th>\n",
       "      <th>released</th>\n",
       "      <th>score</th>\n",
       "      <th>votes</th>\n",
       "      <th>director</th>\n",
       "      <th>writer</th>\n",
       "      <th>star</th>\n",
       "      <th>country</th>\n",
       "      <th>gross</th>\n",
       "      <th>company</th>\n",
       "      <th>runtime</th>\n",
       "    </tr>\n",
       "  </thead>\n",
       "  <tbody>\n",
       "    <tr>\n",
       "      <th>7</th>\n",
       "      <td>Raging Bull</td>\n",
       "      <td>R</td>\n",
       "      <td>Biography</td>\n",
       "      <td>1980</td>\n",
       "      <td>December 19, 1980 (United States)</td>\n",
       "      <td>8.2</td>\n",
       "      <td>330000.0</td>\n",
       "      <td>Martin Scorsese</td>\n",
       "      <td>Jake LaMotta</td>\n",
       "      <td>Robert De Niro</td>\n",
       "      <td>United States</td>\n",
       "      <td>23402427.0</td>\n",
       "      <td>Chartoff-Winkler Productions</td>\n",
       "      <td>129.0</td>\n",
       "    </tr>\n",
       "    <tr>\n",
       "      <th>9</th>\n",
       "      <td>The Long Riders</td>\n",
       "      <td>R</td>\n",
       "      <td>Biography</td>\n",
       "      <td>1980</td>\n",
       "      <td>May 16, 1980 (United States)</td>\n",
       "      <td>7.0</td>\n",
       "      <td>10000.0</td>\n",
       "      <td>Walter Hill</td>\n",
       "      <td>Bill Bryden</td>\n",
       "      <td>David Carradine</td>\n",
       "      <td>United States</td>\n",
       "      <td>15795189.0</td>\n",
       "      <td>United Artists</td>\n",
       "      <td>100.0</td>\n",
       "    </tr>\n",
       "    <tr>\n",
       "      <th>14</th>\n",
       "      <td>Dressed to Kill</td>\n",
       "      <td>R</td>\n",
       "      <td>Crime</td>\n",
       "      <td>1980</td>\n",
       "      <td>July 25, 1980 (United States)</td>\n",
       "      <td>7.1</td>\n",
       "      <td>37000.0</td>\n",
       "      <td>Brian De Palma</td>\n",
       "      <td>Brian De Palma</td>\n",
       "      <td>Michael Caine</td>\n",
       "      <td>United States</td>\n",
       "      <td>31899000.0</td>\n",
       "      <td>Filmways Pictures</td>\n",
       "      <td>104.0</td>\n",
       "    </tr>\n",
       "    <tr>\n",
       "      <th>38</th>\n",
       "      <td>Coal Miner's Daughter</td>\n",
       "      <td>PG</td>\n",
       "      <td>Biography</td>\n",
       "      <td>1980</td>\n",
       "      <td>March 7, 1980 (United States)</td>\n",
       "      <td>7.5</td>\n",
       "      <td>17000.0</td>\n",
       "      <td>Michael Apted</td>\n",
       "      <td>Thomas Rickman</td>\n",
       "      <td>Sissy Spacek</td>\n",
       "      <td>United States</td>\n",
       "      <td>67182787.0</td>\n",
       "      <td>Universal Pictures</td>\n",
       "      <td>124.0</td>\n",
       "    </tr>\n",
       "    <tr>\n",
       "      <th>46</th>\n",
       "      <td>Stardust Memories</td>\n",
       "      <td>PG</td>\n",
       "      <td>Comedy</td>\n",
       "      <td>1980</td>\n",
       "      <td>September 26, 1980 (United States)</td>\n",
       "      <td>7.3</td>\n",
       "      <td>22000.0</td>\n",
       "      <td>Woody Allen</td>\n",
       "      <td>Woody Allen</td>\n",
       "      <td>Woody Allen</td>\n",
       "      <td>United States</td>\n",
       "      <td>10389003.0</td>\n",
       "      <td>Jack Rollins &amp; Charles H. Joffe Productions</td>\n",
       "      <td>89.0</td>\n",
       "    </tr>\n",
       "  </tbody>\n",
       "</table>\n",
       "</div>"
      ],
      "text/plain": [
       "                     name rating      genre  year  \\\n",
       "7             Raging Bull      R  Biography  1980   \n",
       "9         The Long Riders      R  Biography  1980   \n",
       "14        Dressed to Kill      R      Crime  1980   \n",
       "38  Coal Miner's Daughter     PG  Biography  1980   \n",
       "46      Stardust Memories     PG     Comedy  1980   \n",
       "\n",
       "                              released  score     votes         director  \\\n",
       "7    December 19, 1980 (United States)    8.2  330000.0  Martin Scorsese   \n",
       "9         May 16, 1980 (United States)    7.0   10000.0      Walter Hill   \n",
       "14       July 25, 1980 (United States)    7.1   37000.0   Brian De Palma   \n",
       "38       March 7, 1980 (United States)    7.5   17000.0    Michael Apted   \n",
       "46  September 26, 1980 (United States)    7.3   22000.0      Woody Allen   \n",
       "\n",
       "            writer             star        country       gross  \\\n",
       "7     Jake LaMotta   Robert De Niro  United States  23402427.0   \n",
       "9      Bill Bryden  David Carradine  United States  15795189.0   \n",
       "14  Brian De Palma    Michael Caine  United States  31899000.0   \n",
       "38  Thomas Rickman     Sissy Spacek  United States  67182787.0   \n",
       "46     Woody Allen      Woody Allen  United States  10389003.0   \n",
       "\n",
       "                                        company  runtime  \n",
       "7                  Chartoff-Winkler Productions    129.0  \n",
       "9                                United Artists    100.0  \n",
       "14                            Filmways Pictures    104.0  \n",
       "38                           Universal Pictures    124.0  \n",
       "46  Jack Rollins & Charles H. Joffe Productions     89.0  "
      ]
     },
     "execution_count": 11,
     "metadata": {},
     "output_type": "execute_result"
    }
   ],
   "source": [
    "# Create dataframe with directors with more than 15 movies\n",
    "directors_df = movies_df[movies_df['director'].map(movies_df['director'].value_counts()) > 15]\n",
    "directors_df.head()"
   ]
  },
  {
   "cell_type": "code",
   "execution_count": 12,
   "id": "c529c319",
   "metadata": {},
   "outputs": [
    {
     "data": {
      "text/plain": [
       "director\n",
       "Barry Levinson       6.485000\n",
       "Brian De Palma       6.582353\n",
       "Clint Eastwood       6.967742\n",
       "Directors            6.496000\n",
       "Garry Marshall       6.000000\n",
       "Joel Schumacher      6.304545\n",
       "Martin Scorsese      7.673684\n",
       "Michael Apted        6.443750\n",
       "Oliver Stone         6.850000\n",
       "Richard Linklater    7.158824\n",
       "Ridley Scott         6.926087\n",
       "Rob Reiner           6.975000\n",
       "Robert Zemeckis      7.241176\n",
       "Ron Howard           6.825000\n",
       "Sidney Lumet         6.452941\n",
       "Spike Lee            6.747059\n",
       "Stephen Frears       6.782353\n",
       "Steven Soderbergh    6.678261\n",
       "Steven Spielberg     7.440741\n",
       "Tim Burton           6.984211\n",
       "Tony Scott           6.793750\n",
       "Walter Hill          6.300000\n",
       "Wes Craven           6.031250\n",
       "Woody Allen          6.973684\n",
       "Name: score, dtype: float64"
      ]
     },
     "execution_count": 12,
     "metadata": {},
     "output_type": "execute_result"
    }
   ],
   "source": [
    "# Get average IMDb score by director\n",
    "score_by_director = directors_df.groupby(['director']).mean()['score']\n",
    "score_by_director"
   ]
  },
  {
   "cell_type": "code",
   "execution_count": 17,
   "id": "031adbb3",
   "metadata": {},
   "outputs": [
    {
     "data": {
      "text/plain": [
       "genre\n",
       "Action        85\n",
       "Adventure     32\n",
       "Animation     21\n",
       "Biography     49\n",
       "Comedy       137\n",
       "Crime         65\n",
       "Drama         79\n",
       "Family         1\n",
       "Fantasy        3\n",
       "Horror        14\n",
       "Mystery        2\n",
       "Thriller       1\n",
       "Name: name, dtype: int64"
      ]
     },
     "execution_count": 17,
     "metadata": {},
     "output_type": "execute_result"
    }
   ],
   "source": [
    "# Get total number of movies by director\n",
    "movies_by_director = directors_df.groupby(['genre']).count()['name']\n",
    "movies_by_director"
   ]
  },
  {
   "cell_type": "code",
   "execution_count": 13,
   "id": "dacdbd82",
   "metadata": {},
   "outputs": [
    {
     "data": {
      "image/png": "[encoded data removed]",
      "text/plain": [
       "<Figure size 432x288 with 1 Axes>"
      ]
     },
     "metadata": {
      "needs_background": "light"
     },
     "output_type": "display_data"
    }
   ],
   "source": [
    "# Plot scores by director into bar graph\n",
    "plt.bar(score_by_director.index, score_by_director.values)\n",
    "plt.ylabel('IMDb Score')\n",
    "plt.xlabel('Director')\n",
    "plt.title('Average Scores by Director')\n",
    "plt.xticks(rotation=90)\n",
    "plt.show()"
   ]
  },
  {
   "cell_type": "code",
   "execution_count": 14,
   "id": "ea4e479c",
   "metadata": {},
   "outputs": [
    {
     "data": {
      "text/html": [
       "<div>\n",
       "<style scoped>\n",
       "    .dataframe tbody tr th:only-of-type {\n",
       "        vertical-align: middle;\n",
       "    }\n",
       "\n",
       "    .dataframe tbody tr th {\n",
       "        vertical-align: top;\n",
       "    }\n",
       "\n",
       "    .dataframe thead th {\n",
       "        text-align: right;\n",
       "    }\n",
       "</style>\n",
       "<table border=\"1\" class=\"dataframe\">\n",
       "  <thead>\n",
       "    <tr style=\"text-align: right;\">\n",
       "      <th></th>\n",
       "      <th>name</th>\n",
       "      <th>rating</th>\n",
       "      <th>genre</th>\n",
       "      <th>year</th>\n",
       "      <th>released</th>\n",
       "      <th>score</th>\n",
       "      <th>votes</th>\n",
       "      <th>director</th>\n",
       "      <th>writer</th>\n",
       "      <th>star</th>\n",
       "      <th>country</th>\n",
       "      <th>gross</th>\n",
       "      <th>company</th>\n",
       "      <th>runtime</th>\n",
       "    </tr>\n",
       "  </thead>\n",
       "  <tbody>\n",
       "    <tr>\n",
       "      <th>7</th>\n",
       "      <td>Raging Bull</td>\n",
       "      <td>R</td>\n",
       "      <td>Biography</td>\n",
       "      <td>1980</td>\n",
       "      <td>December 19, 1980 (United States)</td>\n",
       "      <td>8.2</td>\n",
       "      <td>330000.0</td>\n",
       "      <td>Martin Scorsese</td>\n",
       "      <td>Jake LaMotta</td>\n",
       "      <td>Robert De Niro</td>\n",
       "      <td>United States</td>\n",
       "      <td>23402427.0</td>\n",
       "      <td>Chartoff-Winkler Productions</td>\n",
       "      <td>129.0</td>\n",
       "    </tr>\n",
       "    <tr>\n",
       "      <th>10</th>\n",
       "      <td>Any Which Way You Can</td>\n",
       "      <td>PG</td>\n",
       "      <td>Action</td>\n",
       "      <td>1980</td>\n",
       "      <td>December 17, 1980 (United States)</td>\n",
       "      <td>6.1</td>\n",
       "      <td>18000.0</td>\n",
       "      <td>Buddy Van Horn</td>\n",
       "      <td>Stanford Sherman</td>\n",
       "      <td>Clint Eastwood</td>\n",
       "      <td>United States</td>\n",
       "      <td>70687344.0</td>\n",
       "      <td>The Malpaso Company</td>\n",
       "      <td>116.0</td>\n",
       "    </tr>\n",
       "    <tr>\n",
       "      <th>12</th>\n",
       "      <td>Popeye</td>\n",
       "      <td>PG</td>\n",
       "      <td>Adventure</td>\n",
       "      <td>1980</td>\n",
       "      <td>December 12, 1980 (United States)</td>\n",
       "      <td>5.3</td>\n",
       "      <td>30000.0</td>\n",
       "      <td>Robert Altman</td>\n",
       "      <td>Jules Feiffer</td>\n",
       "      <td>Robin Williams</td>\n",
       "      <td>United States</td>\n",
       "      <td>49823037.0</td>\n",
       "      <td>Paramount Pictures</td>\n",
       "      <td>114.0</td>\n",
       "    </tr>\n",
       "    <tr>\n",
       "      <th>20</th>\n",
       "      <td>Cruising</td>\n",
       "      <td>R</td>\n",
       "      <td>Crime</td>\n",
       "      <td>1980</td>\n",
       "      <td>February 15, 1980 (United States)</td>\n",
       "      <td>6.5</td>\n",
       "      <td>20000.0</td>\n",
       "      <td>William Friedkin</td>\n",
       "      <td>William Friedkin</td>\n",
       "      <td>Al Pacino</td>\n",
       "      <td>West Germany</td>\n",
       "      <td>19814523.0</td>\n",
       "      <td>Lorimar Film Entertainment</td>\n",
       "      <td>102.0</td>\n",
       "    </tr>\n",
       "    <tr>\n",
       "      <th>24</th>\n",
       "      <td>Urban Cowboy</td>\n",
       "      <td>PG</td>\n",
       "      <td>Drama</td>\n",
       "      <td>1980</td>\n",
       "      <td>June 6, 1980 (United States)</td>\n",
       "      <td>6.4</td>\n",
       "      <td>14000.0</td>\n",
       "      <td>James Bridges</td>\n",
       "      <td>Aaron Latham</td>\n",
       "      <td>John Travolta</td>\n",
       "      <td>United States</td>\n",
       "      <td>46918287.0</td>\n",
       "      <td>Paramount Pictures</td>\n",
       "      <td>132.0</td>\n",
       "    </tr>\n",
       "    <tr>\n",
       "      <th>...</th>\n",
       "      <td>...</td>\n",
       "      <td>...</td>\n",
       "      <td>...</td>\n",
       "      <td>...</td>\n",
       "      <td>...</td>\n",
       "      <td>...</td>\n",
       "      <td>...</td>\n",
       "      <td>...</td>\n",
       "      <td>...</td>\n",
       "      <td>...</td>\n",
       "      <td>...</td>\n",
       "      <td>...</td>\n",
       "      <td>...</td>\n",
       "      <td>...</td>\n",
       "    </tr>\n",
       "    <tr>\n",
       "      <th>7313</th>\n",
       "      <td>The Beach Bum</td>\n",
       "      <td>R</td>\n",
       "      <td>Comedy</td>\n",
       "      <td>2019</td>\n",
       "      <td>March 29, 2019 (United States)</td>\n",
       "      <td>5.5</td>\n",
       "      <td>20000.0</td>\n",
       "      <td>Harmony Korine</td>\n",
       "      <td>Harmony Korine</td>\n",
       "      <td>Matthew McConaughey</td>\n",
       "      <td>Switzerland</td>\n",
       "      <td>4554416.0</td>\n",
       "      <td>Iconoclast</td>\n",
       "      <td>95.0</td>\n",
       "    </tr>\n",
       "    <tr>\n",
       "      <th>7317</th>\n",
       "      <td>The Art of Racing in the Rain</td>\n",
       "      <td>PG</td>\n",
       "      <td>Comedy</td>\n",
       "      <td>2019</td>\n",
       "      <td>August 9, 2019 (United States)</td>\n",
       "      <td>7.6</td>\n",
       "      <td>27000.0</td>\n",
       "      <td>Simon Curtis</td>\n",
       "      <td>Mark Bomback</td>\n",
       "      <td>Kevin Costner</td>\n",
       "      <td>United States</td>\n",
       "      <td>33766787.0</td>\n",
       "      <td>Fox 2000 Pictures</td>\n",
       "      <td>109.0</td>\n",
       "    </tr>\n",
       "    <tr>\n",
       "      <th>7404</th>\n",
       "      <td>Bad Boys for Life</td>\n",
       "      <td>R</td>\n",
       "      <td>Action</td>\n",
       "      <td>2020</td>\n",
       "      <td>January 17, 2020 (United States)</td>\n",
       "      <td>6.6</td>\n",
       "      <td>140000.0</td>\n",
       "      <td>Adil El Arbi</td>\n",
       "      <td>Peter Craig</td>\n",
       "      <td>Will Smith</td>\n",
       "      <td>United States</td>\n",
       "      <td>426505244.0</td>\n",
       "      <td>Columbia Pictures</td>\n",
       "      <td>124.0</td>\n",
       "    </tr>\n",
       "    <tr>\n",
       "      <th>7406</th>\n",
       "      <td>Dolittle</td>\n",
       "      <td>PG</td>\n",
       "      <td>Adventure</td>\n",
       "      <td>2020</td>\n",
       "      <td>January 17, 2020 (United States)</td>\n",
       "      <td>5.6</td>\n",
       "      <td>53000.0</td>\n",
       "      <td>Stephen Gaghan</td>\n",
       "      <td>Stephen Gaghan</td>\n",
       "      <td>Robert Downey Jr.</td>\n",
       "      <td>United States</td>\n",
       "      <td>245487753.0</td>\n",
       "      <td>Universal Pictures</td>\n",
       "      <td>101.0</td>\n",
       "    </tr>\n",
       "    <tr>\n",
       "      <th>7407</th>\n",
       "      <td>The Call of the Wild</td>\n",
       "      <td>PG</td>\n",
       "      <td>Adventure</td>\n",
       "      <td>2020</td>\n",
       "      <td>February 21, 2020 (United States)</td>\n",
       "      <td>6.8</td>\n",
       "      <td>42000.0</td>\n",
       "      <td>Chris Sanders</td>\n",
       "      <td>Michael Green</td>\n",
       "      <td>Harrison Ford</td>\n",
       "      <td>Canada</td>\n",
       "      <td>111105497.0</td>\n",
       "      <td>20th Century Studios</td>\n",
       "      <td>100.0</td>\n",
       "    </tr>\n",
       "  </tbody>\n",
       "</table>\n",
       "<p>1128 rows × 14 columns</p>\n",
       "</div>"
      ],
      "text/plain": [
       "                               name rating      genre  year  \\\n",
       "7                       Raging Bull      R  Biography  1980   \n",
       "10            Any Which Way You Can     PG     Action  1980   \n",
       "12                           Popeye     PG  Adventure  1980   \n",
       "20                         Cruising      R      Crime  1980   \n",
       "24                     Urban Cowboy     PG      Drama  1980   \n",
       "...                             ...    ...        ...   ...   \n",
       "7313                  The Beach Bum      R     Comedy  2019   \n",
       "7317  The Art of Racing in the Rain     PG     Comedy  2019   \n",
       "7404              Bad Boys for Life      R     Action  2020   \n",
       "7406                       Dolittle     PG  Adventure  2020   \n",
       "7407           The Call of the Wild     PG  Adventure  2020   \n",
       "\n",
       "                               released  score     votes          director  \\\n",
       "7     December 19, 1980 (United States)    8.2  330000.0   Martin Scorsese   \n",
       "10    December 17, 1980 (United States)    6.1   18000.0    Buddy Van Horn   \n",
       "12    December 12, 1980 (United States)    5.3   30000.0     Robert Altman   \n",
       "20    February 15, 1980 (United States)    6.5   20000.0  William Friedkin   \n",
       "24         June 6, 1980 (United States)    6.4   14000.0     James Bridges   \n",
       "...                                 ...    ...       ...               ...   \n",
       "7313     March 29, 2019 (United States)    5.5   20000.0    Harmony Korine   \n",
       "7317     August 9, 2019 (United States)    7.6   27000.0      Simon Curtis   \n",
       "7404   January 17, 2020 (United States)    6.6  140000.0      Adil El Arbi   \n",
       "7406   January 17, 2020 (United States)    5.6   53000.0    Stephen Gaghan   \n",
       "7407  February 21, 2020 (United States)    6.8   42000.0     Chris Sanders   \n",
       "\n",
       "                writer                 star        country        gross  \\\n",
       "7         Jake LaMotta       Robert De Niro  United States   23402427.0   \n",
       "10    Stanford Sherman       Clint Eastwood  United States   70687344.0   \n",
       "12       Jules Feiffer       Robin Williams  United States   49823037.0   \n",
       "20    William Friedkin            Al Pacino   West Germany   19814523.0   \n",
       "24        Aaron Latham        John Travolta  United States   46918287.0   \n",
       "...                ...                  ...            ...          ...   \n",
       "7313    Harmony Korine  Matthew McConaughey    Switzerland    4554416.0   \n",
       "7317      Mark Bomback        Kevin Costner  United States   33766787.0   \n",
       "7404       Peter Craig           Will Smith  United States  426505244.0   \n",
       "7406    Stephen Gaghan    Robert Downey Jr.  United States  245487753.0   \n",
       "7407     Michael Green        Harrison Ford         Canada  111105497.0   \n",
       "\n",
       "                           company  runtime  \n",
       "7     Chartoff-Winkler Productions    129.0  \n",
       "10             The Malpaso Company    116.0  \n",
       "12              Paramount Pictures    114.0  \n",
       "20      Lorimar Film Entertainment    102.0  \n",
       "24              Paramount Pictures    132.0  \n",
       "...                            ...      ...  \n",
       "7313                    Iconoclast     95.0  \n",
       "7317             Fox 2000 Pictures    109.0  \n",
       "7404             Columbia Pictures    124.0  \n",
       "7406            Universal Pictures    101.0  \n",
       "7407          20th Century Studios    100.0  \n",
       "\n",
       "[1128 rows x 14 columns]"
      ]
     },
     "execution_count": 14,
     "metadata": {},
     "output_type": "execute_result"
    }
   ],
   "source": [
    "# Create dataframe with stars with more than 20 movies\n",
    "stars_df = movies_df[movies_df['star'].map(movies_df['star'].value_counts()) > 20]\n",
    "stars_df"
   ]
  },
  {
   "cell_type": "code",
   "execution_count": 19,
   "id": "2d78295c",
   "metadata": {},
   "outputs": [
    {
     "data": {
      "text/plain": [
       "star\n",
       "Adam Sandler             28\n",
       "Al Pacino                21\n",
       "Anthony Hopkins          21\n",
       "Arnold Schwarzenegger    27\n",
       "Ben Affleck              22\n",
       "Ben Stiller              27\n",
       "Brad Pitt                24\n",
       "Bruce Willis             34\n",
       "Christian Bale           21\n",
       "Clint Eastwood           23\n",
       "Dennis Quaid             22\n",
       "Denzel Washington        37\n",
       "Dwayne Johnson           22\n",
       "Eddie Murphy             27\n",
       "Ethan Hawke              22\n",
       "Harrison Ford            26\n",
       "Jackie Chan              23\n",
       "Jeff Bridges             27\n",
       "Jim Carrey               22\n",
       "John Cusack              24\n",
       "John Travolta            30\n",
       "Johnny Depp              33\n",
       "Keanu Reeves             27\n",
       "Kevin Costner            29\n",
       "Liam Neeson              23\n",
       "Mark Wahlberg            25\n",
       "Matt Damon               25\n",
       "Matthew McConaughey      25\n",
       "Mel Gibson               29\n",
       "Meryl Streep             25\n",
       "Nicolas Cage             43\n",
       "Richard Gere             24\n",
       "Robert De Niro           41\n",
       "Robert Downey Jr.        21\n",
       "Robin Williams           27\n",
       "Sandra Bullock           22\n",
       "Steve Martin             29\n",
       "Sylvester Stallone       32\n",
       "Tom Cruise               33\n",
       "Tom Hanks                41\n",
       "Will Ferrell             21\n",
       "Will Smith               23\n",
       "Name: name, dtype: int64"
      ]
     },
     "execution_count": 19,
     "metadata": {},
     "output_type": "execute_result"
    }
   ],
   "source": [
    "# Get total number of movies by star\n",
    "movies_by_star = stars_df.groupby(['star']).count()['name']\n",
    "movies_by_star"
   ]
  },
  {
   "cell_type": "code",
   "execution_count": 15,
   "id": "9b360bc8",
   "metadata": {},
   "outputs": [
    {
     "data": {
      "text/plain": [
       "star\n",
       "Adam Sandler             6.150000\n",
       "Al Pacino                6.966667\n",
       "Anthony Hopkins          6.800000\n",
       "Arnold Schwarzenegger    6.229630\n",
       "Ben Affleck              6.322727\n",
       "Ben Stiller              6.166667\n",
       "Brad Pitt                7.050000\n",
       "Bruce Willis             6.514706\n",
       "Christian Bale           7.347619\n",
       "Clint Eastwood           6.634783\n",
       "Dennis Quaid             6.272727\n",
       "Denzel Washington        6.908108\n",
       "Dwayne Johnson           6.136364\n",
       "Eddie Murphy             5.707407\n",
       "Ethan Hawke              6.759091\n",
       "Harrison Ford            6.803846\n",
       "Jackie Chan              6.413043\n",
       "Jeff Bridges             6.766667\n",
       "Jim Carrey               6.759091\n",
       "John Cusack              6.712500\n",
       "John Travolta            5.820000\n",
       "Johnny Depp              6.933333\n",
       "Keanu Reeves             6.596296\n",
       "Kevin Costner            6.889655\n",
       "Liam Neeson              6.647826\n",
       "Mark Wahlberg            6.492000\n",
       "Matt Damon               6.764000\n",
       "Matthew McConaughey      6.468000\n",
       "Mel Gibson               6.813793\n",
       "Meryl Streep             6.704000\n",
       "Nicolas Cage             6.167442\n",
       "Richard Gere             6.179167\n",
       "Robert De Niro           6.719512\n",
       "Robert Downey Jr.        7.004762\n",
       "Robin Williams           6.359259\n",
       "Sandra Bullock           5.990909\n",
       "Steve Martin             6.282759\n",
       "Sylvester Stallone       6.087500\n",
       "Tom Cruise               6.833333\n",
       "Tom Hanks                6.995122\n",
       "Will Ferrell             6.252381\n",
       "Will Smith               6.708696\n",
       "Name: score, dtype: float64"
      ]
     },
     "execution_count": 15,
     "metadata": {},
     "output_type": "execute_result"
    }
   ],
   "source": [
    "# Get average IMDb score by director\n",
    "score_by_star = stars_df.groupby(['star']).mean()['score']\n",
    "score_by_star"
   ]
  },
  {
   "cell_type": "code",
   "execution_count": 16,
   "id": "89433dec",
   "metadata": {},
   "outputs": [
    {
     "data": {
      "image/png": "[encoded data removed]",
      "text/plain": [
       "<Figure size 432x288 with 1 Axes>"
      ]
     },
     "metadata": {
      "needs_background": "light"
     },
     "output_type": "display_data"
    }
   ],
   "source": [
    "# Plot scores by star into bar graph\n",
    "plt.bar(score_by_star.index, score_by_star.values)\n",
    "plt.ylabel('IMDb Score')\n",
    "plt.xlabel('Star')\n",
    "plt.title('Average Scores by Star')\n",
    "plt.xticks(rotation=90)\n",
    "plt.show()"
   ]
  },
  {
   "cell_type": "code",
   "execution_count": null,
   "id": "0cee88c5",
   "metadata": {},
   "outputs": [],
   "source": []
  }
 ],
 "metadata": {
  "kernelspec": {
   "display_name": "Python 3",
   "language": "python",
   "name": "python3"
  },
  "language_info": {
   "codemirror_mode": {
    "name": "ipython",
    "version": 3
   },
   "file_extension": ".py",
   "mimetype": "text/x-python",
   "name": "python",
   "nbconvert_exporter": "python",
   "pygments_lexer": "ipython3",
   "version": "3.7.10"
  }
 },
 "nbformat": 4,
 "nbformat_minor": 5
}

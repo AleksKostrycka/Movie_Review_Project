{
 "cells": [
  {
   "cell_type": "code",
   "execution_count": 20,
   "id": "0343621f",
   "metadata": {},
   "outputs": [],
   "source": [
    "# Add Matplotlib inline magic command\n",
    "%matplotlib inline\n",
    "# Dependencies and Setup\n",
    "import pandas as pd\n",
    "import matplotlib.pyplot as plt\n",
    "from scipy.stats import linregress\n",
    "\n",
    "#Formatting describe()\n",
    "pd.options.display.float_format = '{:,.2f}'.format"
   ]
  },
  {
   "cell_type": "code",
   "execution_count": 21,
   "id": "1abfc852",
   "metadata": {},
   "outputs": [],
   "source": [
    "# Load cleaned_movies into DataFrame\n",
    "movies_df = pd.read_csv('movies_final.csv')\n",
    "#movies_df.head()"
   ]
  },
  {
   "cell_type": "code",
   "execution_count": 92,
   "id": "6aa97d58",
   "metadata": {},
   "outputs": [],
   "source": [
    "# Drop Unnamed column\n",
    "movies_df = movies_df.loc[:,~movies_df.columns.str.contains('^Unnamed')]\n",
    "#movies_df.describe()"
   ]
  },
  {
   "cell_type": "markdown",
   "id": "e15b4bde",
   "metadata": {},
   "source": [
    "## Dataframe Adjustments by Column"
   ]
  },
  {
   "cell_type": "markdown",
   "id": "f0f123b8",
   "metadata": {},
   "source": [
    "### Recommended: Column Count Descriptive Stats"
   ]
  },
  {
   "cell_type": "code",
   "execution_count": 117,
   "id": "18931dab",
   "metadata": {},
   "outputs": [],
   "source": [
    "###Recommended obtaining column value descriptive stats to determine count parameters\n",
    "#print(movies_df['column'].value_counts().describe())\n",
    "#movies_df['column'].value_counts().to_frame().boxplot(vert=False)\n",
    "def count_cutoff(column, min):\n",
    "    cutoff_df = movies_df[movies_df[column].map(movies_df[column].value_counts()) \\\n",
    "                    >= movies_df[column].value_counts().quantile(min)][column].value_counts()\n",
    "    print(cutoff_df)\n",
    "    print(\"\\nSum\")\n",
    "    print(cutoff_df.sum())\n",
    "    print(f\"\\nAll {column} Count Descriptive Stats and Boxplot\")\n",
    "    print(movies_df[column].value_counts().describe())\n",
    "    movies_df[column].value_counts().to_frame().boxplot(vert=False)\n",
    "    plt.show()"
   ]
  },
  {
   "cell_type": "markdown",
   "id": "0e1c1804",
   "metadata": {},
   "source": [
    "### Adjust Category Count Range by Quantile"
   ]
  },
  {
   "cell_type": "code",
   "execution_count": 6,
   "id": "5fb542a7",
   "metadata": {},
   "outputs": [],
   "source": [
    "#Categorical variable reduction by value_count.  Uses movies_df dataframe  \n",
    "#Insert 1. 'column' in quotes 2. minimum movie apperances by quantile (inclusive) 3. maximum movie apperances by quantile (inclusive)\n",
    "#Returns a dataframe\n",
    "def reduce_df_count(column, min, max):\n",
    "    df = movies_df[movies_df[column].map(movies_df[column].value_counts()) >= movies_df['genre'].value_counts().quantile(min)]\n",
    "    df = df[df[column].map(df[column].value_counts()) <= movies_df['genre'].value_counts().quantile(max)]\n",
    "    return df"
   ]
  },
  {
   "cell_type": "markdown",
   "id": "d4bf15e7",
   "metadata": {},
   "source": [
    "### Adjust Median Category Score Range by Quantile"
   ]
  },
  {
   "cell_type": "code",
   "execution_count": 13,
   "id": "08ec0de2",
   "metadata": {},
   "outputs": [],
   "source": [
    "#Categorical variable reduction by median_rating.  Uses movies_df dataframe  \n",
    "#Insert 1. 'column' in quotes 2. minimum movie apperances (inclusive) 3. maximum movie apperances (inclusive)\n",
    "#Returns a dataframe\n",
    "def reduce_df_median(column, min, max):\n",
    "    column_medians = movies_df.groupby([column]).median()['score']\n",
    "    df = movies_df[movies_df[column].map(movies_df.groupby([column]).median()['score']) >= column_medians.quantile(min)]\n",
    "    df = df[df[column].map(df.groupby([column]).median()['score']) <= column_medians.quantile(max)]\n",
    "    return df"
   ]
  },
  {
   "cell_type": "markdown",
   "id": "856cdf98",
   "metadata": {},
   "source": [
    "## Descriptive Statistics Analysis"
   ]
  },
  {
   "cell_type": "markdown",
   "id": "57289a32",
   "metadata": {},
   "source": [
    "### Categorical Ordered by Count"
   ]
  },
  {
   "cell_type": "code",
   "execution_count": 47,
   "id": "f8039aee",
   "metadata": {},
   "outputs": [],
   "source": [
    "#insert dataframe and 'column' in quote\n",
    "def cat_count(df, column):   \n",
    "    #Column values and column value counts\n",
    "    column_counts = df[column].value_counts()\n",
    "    #Put column counts in a dataframe\n",
    "    column_counts_df = pd.DataFrame(column_counts).rename(columns={column: \"Count\"})\n",
    "    #Put the values in a list\n",
    "    column_values_list = column_counts.index.to_list()\n",
    "    \n",
    "    #Get scores by column value\n",
    "    value_scores = []\n",
    "    for value in column_values_list:\n",
    "        value_df = df.loc[df[column] == value]\n",
    "        value_score = value_df['score'].to_list()\n",
    "        value_scores.append(value_score)\n",
    "    \n",
    "    #Bargraph of column counts\n",
    "    length = len(column_values_list)\n",
    "    width = column_counts_df['Count'].max()\n",
    "    column_bar = column_counts_df.plot.barh(figsize = (15, length * .5))\n",
    "    column_bar.set_title(f\"Number of Movies by {column}\",fontsize=20)\n",
    "    column_bar.set_xlabel(\"Count\",fontsize=14)\n",
    "    column_bar.set_ylabel(f\"{column}\",fontsize=14) \n",
    "    column_bar.legend(loc = 'lower right')\n",
    "    plt.gca().invert_yaxis()\n",
    "\n",
    "    #Add counts to bar graph\n",
    "    for i, v in enumerate(column_counts):\n",
    "        column_bar.text(v , i , str(v),\n",
    "            color = 'black', fontweight = 'bold')\n",
    "    \n",
    "    plt.show()\n",
    "    \n",
    "    #Box plot for values and and value scores\n",
    "    y_labels = column_values_list\n",
    "    x_values = value_scores\n",
    "    fig, ax = plt.subplots(figsize=(10, length * .3 ))\n",
    "    ax.set_title(f'Score by {column}', fontsize=20)\n",
    "    ax.set_xlabel(\"Scores\", fontsize=14)\n",
    "    ax.set_ylabel(column, fontsize=14)\n",
    "    ax.boxplot(x_values, labels=y_labels, vert=False)\n",
    "    plt.gca().invert_yaxis()\n",
    "    ax.grid()\n",
    "    # Save the figure.\n",
    "\n",
    "    plt.show()\n",
    "\n",
    "    print(f'All {column} Scores Descriptive Statistics')\n",
    "    print(movies_df.groupby([column]).mean()['score'].describe())"
   ]
  },
  {
   "cell_type": "markdown",
   "id": "7310753f",
   "metadata": {},
   "source": [
    "### Categorical Ordered by Median"
   ]
  },
  {
   "cell_type": "code",
   "execution_count": 48,
   "id": "8e02ab84",
   "metadata": {},
   "outputs": [],
   "source": [
    "#insert dataframe and 'column' in quote\n",
    "def cat_median(df, column):   \n",
    "    #Column values and column value counts\n",
    "    column_counts = df[column].value_counts()\n",
    "    #Put column counts in a dataframe\n",
    "    column_counts_df = pd.DataFrame(column_counts).rename(columns={column: \"Count\"})\n",
    "    column_counts_df = column_counts_df.reset_index()\n",
    "    #Get Medians\n",
    "    median_df = df.groupby([column]).median()[['score']]\n",
    "\n",
    "    #Merge\n",
    "    merged_df = column_counts_df.merge(median_df, left_on='index', right_on=f'{column}')\n",
    "    sorted_df = merged_df.sort_values(by='score')\n",
    "    final_df = sorted_df.set_index('index')\n",
    "\n",
    "    #Put the values in a list\n",
    "    column_values_list = final_df.index.to_list()\n",
    "\n",
    "    #Get scores by column value\n",
    "    value_scores = []\n",
    "    for value in column_values_list:\n",
    "        value_df = df.loc[df[column] == value]\n",
    "        value_score = value_df['score'].to_list()\n",
    "        value_scores.append(value_score)\n",
    "\n",
    "    #Bargraph of column counts\n",
    "    length = len(column_values_list)\n",
    "    column_bar = final_df[['Count']].plot.barh(figsize = (15, length * .5))\n",
    "    column_bar.set_title(f\"Number of Movies by {column}\",fontsize=20)\n",
    "    column_bar.set_xlabel(\"Count\",fontsize=14)\n",
    "    column_bar.set_ylabel(f\"{column}\",fontsize=14) \n",
    "    column_bar.legend(loc = 'lower right')\n",
    "\n",
    "    #Add counts to bar graph\n",
    "    for i, v in enumerate(sorted_df['Count']):\n",
    "        column_bar.text(v , i , str(v),\n",
    "            color = 'black', fontweight = 'bold')\n",
    "\n",
    "    plt.show()\n",
    "\n",
    "    #Box plot for values and and value scores\n",
    "    y_labels = column_values_list\n",
    "    x_values = value_scores\n",
    "    fig, ax = plt.subplots(figsize=(10, length * .3 ))\n",
    "    ax.set_title(f'Score by {column}', fontsize=20)\n",
    "    ax.set_xlabel(\"Scores\", fontsize=14)\n",
    "    ax.set_ylabel(column, fontsize=14)\n",
    "    ax.boxplot(x_values, labels=y_labels, vert=False)\n",
    "    ax.grid()\n",
    "    # Save the figure.\n",
    "\n",
    "    plt.show()\n",
    "\n",
    "    print(f'All {column} Scores Descriptive Statistics')\n",
    "    print(movies_df.groupby([column]).mean()['score'].describe())"
   ]
  },
  {
   "cell_type": "markdown",
   "id": "53220409",
   "metadata": {},
   "source": [
    "### Numeric Ordered by Median"
   ]
  },
  {
   "cell_type": "code",
   "execution_count": 49,
   "id": "78044873",
   "metadata": {},
   "outputs": [],
   "source": [
    "#insert 1. dataframe 2. 'column' in quotes 3/4. min/max display quantile in decimals (ex: .xx) \n",
    "def num_desc(df, column, x_min, x_max):\n",
    "    \n",
    "    # Create a box-and-whisker plot for the urban cities ride count.\n",
    "    fig, ax = plt.subplots()\n",
    "    ax.boxplot(movies_df[column], labels=[\"\"],vert=False)\n",
    "    # Add the title, y-axis label and grid.\n",
    "    ax.set_title(column, fontsize=20)\n",
    "    ax.set_xlabel('Movie length (min)')\n",
    "    ax.set_xlim(df[column].quantile(x_min), df[column].quantile(x_max))\n",
    "    \n",
    "    ax.grid()\n",
    "    plt.show()\n",
    "    \n",
    "    # Plot actual vs. predicted rating\n",
    "    fig, ax = plt.subplots(figsize=(10, 13))\n",
    "    ax.scatter(df[column], df['score'],)\n",
    "    ax.set_xlim(df[column].quantile(x_min), df[column].quantile(x_max))\n",
    "    plt.title(f'{column} versus Score',fontsize=20)\n",
    "    ax.set_xlabel(column, fontsize=14)\n",
    "    ax.set_ylabel('Scores', fontsize=14)\n",
    "\n",
    "    ax.grid()\n",
    "    plt.show()\n",
    "    \n",
    "    print(f'All {column} Scores Descriptive Statistics')\n",
    "    print(df[column].describe())"
   ]
  },
  {
   "cell_type": "markdown",
   "id": "af449c0b",
   "metadata": {},
   "source": [
    "# Summary of Functions"
   ]
  },
  {
   "cell_type": "markdown",
   "id": "194de5b9",
   "metadata": {},
   "source": [
    "### DataFrame Adjustments"
   ]
  },
  {
   "cell_type": "code",
   "execution_count": 50,
   "id": "26fd2167",
   "metadata": {},
   "outputs": [],
   "source": [
    "#count_df = reduce_df_count('column', count_percentile_min, count__percentile_max)\n",
    "#median_df = reduce_df_median('column', percentile_min, percentile_max)\n",
    "\n",
    "\n",
    "#NOTE: For count_df, recommended obtaining column value descriptive stats to determine count parameters\n",
    "#print(movies_df['column'].value_counts().describe())\n",
    "#movies_df['column'].value_counts().to_frame().boxplot(vert=False)"
   ]
  },
  {
   "cell_type": "markdown",
   "id": "16b2c767",
   "metadata": {},
   "source": [
    "### Descriptive Stats"
   ]
  },
  {
   "cell_type": "code",
   "execution_count": 42,
   "id": "855ecb73",
   "metadata": {},
   "outputs": [],
   "source": [
    "#Ordered by 1.Categorical Count 2. Categorical Median 3. Numeric Median\n",
    "###NOTE: Numeric variables are not naturally binned and so are not described by count\n",
    "#1. cat_count(df, 'column')\n",
    "#2. cat_median(df, 'column')\n",
    "#3. num_desc(df, 'column', percentile_min, percentile_max)"
   ]
  },
  {
   "cell_type": "markdown",
   "id": "f8998288",
   "metadata": {},
   "source": [
    "### Variables"
   ]
  },
  {
   "cell_type": "code",
   "execution_count": 43,
   "id": "80b5466d",
   "metadata": {},
   "outputs": [],
   "source": [
    "##Categorical\n",
    "# rating\n",
    "# genre\n",
    "# year\n",
    "# director\n",
    "# writer\n",
    "# star\n",
    "# country\n",
    "# company\n",
    "\n",
    "##Numeric\n",
    "# votes\n",
    "# gross\n",
    "# runtime"
   ]
  },
  {
   "cell_type": "markdown",
   "id": "25e40543",
   "metadata": {},
   "source": [
    "# Analysis"
   ]
  },
  {
   "cell_type": "code",
   "execution_count": 64,
   "id": "b89ddae6",
   "metadata": {},
   "outputs": [
    {
     "name": "stdout",
     "output_type": "stream",
     "text": [
      "Universal Pictures              376\n",
      "Warner Bros.                    332\n",
      "Columbia Pictures               332\n",
      "Paramount Pictures              319\n",
      "Twentieth Century Fox           240\n",
      "                               ... \n",
      "Too Askew Prod. Inc.              1\n",
      "McFarlane Films                   1\n",
      "Blue Tulip Productions            1\n",
      "Cinema Line Film Corporation      1\n",
      "Pryor Entertainment               1\n",
      "Name: company, Length: 2242, dtype: int64\n",
      "\n",
      "count   2,242.00\n",
      "mean        3.31\n",
      "std        17.10\n",
      "min         1.00\n",
      "25%         1.00\n",
      "50%         1.00\n",
      "75%         2.00\n",
      "max       376.00\n",
      "Name: company, dtype: float64\n"
     ]
    },
    {
     "data": {
      "text/plain": [
       "<AxesSubplot:>"
      ]
     },
     "execution_count": 64,
     "metadata": {},
     "output_type": "execute_result"
    },
    {
     "data": {
      "image/png": "[encoded data removed]",
      "text/plain": [
       "<Figure size 432x288 with 1 Axes>"
      ]
     },
     "metadata": {
      "needs_background": "light"
     },
     "output_type": "display_data"
    }
   ],
   "source": [
    "print(movies_df['company'].value_counts())\n",
    "print()\n",
    "print(movies_df['company'].value_counts().describe())\n",
    "movies_df['company'].value_counts().to_frame().boxplot(vert=False)"
   ]
  },
  {
   "cell_type": "code",
   "execution_count": 100,
   "id": "9b96b3e1",
   "metadata": {},
   "outputs": [
    {
     "data": {
      "text/plain": [
       "Universal Pictures                 376\n",
       "Warner Bros.                       332\n",
       "Columbia Pictures                  332\n",
       "Paramount Pictures                 319\n",
       "Twentieth Century Fox              240\n",
       "                                  ... \n",
       "Pathé Pictures International         7\n",
       "Bandai Visual Company                7\n",
       "Phoenix Pictures                     7\n",
       "The Geffen Company                   7\n",
       "Twentieth Century Fox Animation      7\n",
       "Name: company, Length: 128, dtype: int64"
      ]
     },
     "execution_count": 100,
     "metadata": {},
     "output_type": "execute_result"
    }
   ],
   "source": [
    "test_df = movies_df[movies_df['company'].map(movies_df['company'].value_counts()) >= movies_df['company'].value_counts().quantile(.95)]['company'].value_counts()\n",
    "test_df"
   ]
  },
  {
   "cell_type": "code",
   "execution_count": 101,
   "id": "3d974a86",
   "metadata": {},
   "outputs": [
    {
     "data": {
      "text/plain": [
       "4289"
      ]
     },
     "execution_count": 101,
     "metadata": {},
     "output_type": "execute_result"
    }
   ],
   "source": [
    "test_df.sum()"
   ]
  },
  {
   "cell_type": "code",
   "execution_count": 51,
   "id": "e9f784fd",
   "metadata": {},
   "outputs": [
    {
     "data": {
      "image/png": "[encoded data removed]",
      "text/plain": [
       "<Figure size 1080x648 with 1 Axes>"
      ]
     },
     "metadata": {
      "needs_background": "light"
     },
     "output_type": "display_data"
    },
    {
     "data": {
      "image/png": "[encoded data removed]",
      "text/plain": [
       "<Figure size 720x388.8 with 1 Axes>"
      ]
     },
     "metadata": {
      "needs_background": "light"
     },
     "output_type": "display_data"
    },
    {
     "name": "stdout",
     "output_type": "stream",
     "text": [
      "All genre Scores Descriptive Statistics\n",
      "count   18.00\n",
      "mean     6.47\n",
      "std      0.55\n",
      "min      5.67\n",
      "25%      6.09\n",
      "50%      6.44\n",
      "75%      6.69\n",
      "max      7.90\n",
      "Name: score, dtype: float64\n"
     ]
    }
   ],
   "source": [
    "cat_count(small_df, 'genre')"
   ]
  },
  {
   "cell_type": "code",
   "execution_count": null,
   "id": "a3831318",
   "metadata": {},
   "outputs": [],
   "source": []
  }
 ],
 "metadata": {
  "kernelspec": {
   "display_name": "Python 3 (ipykernel)",
   "language": "python",
   "name": "python3"
  },
  "language_info": {
   "codemirror_mode": {
    "name": "ipython",
    "version": 3
   },
   "file_extension": ".py",
   "mimetype": "text/x-python",
   "name": "python",
   "nbconvert_exporter": "python",
   "pygments_lexer": "ipython3",
   "version": "3.8.8"
  }
 },
 "nbformat": 4,
 "nbformat_minor": 5
}

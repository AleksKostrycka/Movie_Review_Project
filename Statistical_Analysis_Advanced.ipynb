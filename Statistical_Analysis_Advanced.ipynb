{
 "cells": [
  {
   "cell_type": "code",
   "execution_count": 208,
   "id": "0343621f",
   "metadata": {},
   "outputs": [],
   "source": [
    "# Add Matplotlib inline magic command\n",
    "%matplotlib inline\n",
    "# Dependencies and Setup\n",
    "import pandas as pd\n",
    "import matplotlib.pyplot as plt\n",
    "from scipy.stats import linregress\n",
    "\n",
    "#Formatting describe()\n",
    "pd.options.display.float_format = '{:,.2f}'.format"
   ]
  },
  {
   "cell_type": "code",
   "execution_count": 209,
   "id": "1abfc852",
   "metadata": {},
   "outputs": [],
   "source": [
    "# Load cleaned_movies into DataFrame\n",
    "movies_df = pd.read_csv('movies_final.csv')\n",
    "#movies_df.head()"
   ]
  },
  {
   "cell_type": "code",
   "execution_count": 210,
   "id": "6aa97d58",
   "metadata": {},
   "outputs": [],
   "source": [
    "# Drop Unnamed column\n",
    "movies_df = movies_df.loc[:,~movies_df.columns.str.contains('^Unnamed')]\n",
    "#movies_df.describe()"
   ]
  },
  {
   "cell_type": "markdown",
   "id": "5ff16b55",
   "metadata": {},
   "source": [
    "# Functions"
   ]
  },
  {
   "cell_type": "markdown",
   "id": "7e3ed1ba",
   "metadata": {},
   "source": [
    "### Recommended: Column Count Descriptive Stats"
   ]
  },
  {
   "cell_type": "code",
   "execution_count": 211,
   "id": "b2b36a31",
   "metadata": {},
   "outputs": [],
   "source": [
    "#Obtain column value descriptive stats to determine count parameters\n",
    "#Insert 1. 'column' in quotes 2. minimum quantile of dataframe to include\n",
    "def count_cutoff(column, min):\n",
    "    print(f\"Top {min*100: .1f}% of {column} appearances in the movie dataframe\")\n",
    "    cutoff_df = movies_df[movies_df[column].map(movies_df[column].value_counts()) \\\n",
    "                    >= movies_df[column].value_counts().quantile(min)][column].value_counts()\n",
    "    print(cutoff_df)\n",
    "    print(\"\\nSum and Percent Total of Dataframe\")\n",
    "    print(cutoff_df.sum())\n",
    "    print(cutoff_df.sum() / 7412 * 100)\n",
    "    print(f\"\\nAll {column} Count Descriptive Stats and Boxplot\")\n",
    "    print(movies_df[column].value_counts().describe())\n",
    "    movies_df[column].value_counts().to_frame().boxplot(vert=False)\n",
    "    plt.show()"
   ]
  },
  {
   "cell_type": "markdown",
   "id": "e15b4bde",
   "metadata": {},
   "source": [
    "## Dataframe Adjustments by Column Count\n",
    "Recommend Using count_cutoff first to determine min/max"
   ]
  },
  {
   "cell_type": "markdown",
   "id": "67612a4d",
   "metadata": {},
   "source": [
    "### Adjust Category Count Range by Raw Count"
   ]
  },
  {
   "cell_type": "code",
   "execution_count": 212,
   "id": "560c11b5",
   "metadata": {},
   "outputs": [],
   "source": [
    "#Categorical variable reduction by value_count.  Uses movies_df dataframe  \n",
    "#Insert 1. 'column' in quotes 2. minimum movie apperances (inclusive) 3. maximum movie apperances (inclusive)\n",
    "#Returns a dataframe\n",
    "def reduce_rawCount_df(column, min, max):\n",
    "    df = movies_df[movies_df[column].map(movies_df[column].value_counts()) >= min]\n",
    "    df = df[df[column].map(df[column].value_counts()) <= max]\n",
    "    return df"
   ]
  },
  {
   "cell_type": "markdown",
   "id": "0e1c1804",
   "metadata": {},
   "source": [
    "### Adjust Category Count Range by Quantile"
   ]
  },
  {
   "cell_type": "code",
   "execution_count": 213,
   "id": "5fb542a7",
   "metadata": {},
   "outputs": [],
   "source": [
    "#Categorical variable reduction by value_count.  Uses movies_df dataframe  \n",
    "#Insert 1. 'column' in quotes 2. minimum movie apperances by quantile (inclusive) 3. maximum movie apperances by quantile (inclusive)\n",
    "#Returns a dataframe\n",
    "def reduce_quantileCount_df(column, min, max):\n",
    "    df = movies_df[movies_df[column].map(movies_df[column].value_counts()) >= movies_df['genre'].value_counts().quantile(min)]\n",
    "    df = df[df[column].map(df[column].value_counts()) <= movies_df['genre'].value_counts().quantile(max)]\n",
    "    return df"
   ]
  },
  {
   "cell_type": "markdown",
   "id": "30e21808",
   "metadata": {},
   "source": [
    "## Dataframe Adjustment by Category Score"
   ]
  },
  {
   "cell_type": "markdown",
   "id": "d311f9b3",
   "metadata": {},
   "source": [
    "### Adjust Median Category Score Range by Quantile"
   ]
  },
  {
   "cell_type": "code",
   "execution_count": 224,
   "id": "08ec0de2",
   "metadata": {},
   "outputs": [],
   "source": [
    "# #Categorical variable reduction by median_rating.  Uses movies_df dataframe  \n",
    "# #Insert 1. 'column' in quotes 2. minimum movie apperances (inclusive) 3. maximum movie apperances (inclusive)\n",
    "# #Returns a dataframe\n",
    "# def reduce_df_median(column, min, max):\n",
    "#     column_medians = movies_df.groupby([column]).median()['score']\n",
    "#     df = movies_df[movies_df[column].map(movies_df.groupby([column]).median()['score']) >= column_medians.quantile(min)]\n",
    "#     df = df[df[column].map(df[column].value_counts()) <= column_medians.quantile(max)]\n",
    "#     return df"
   ]
  },
  {
   "cell_type": "code",
   "execution_count": 257,
   "id": "4a254f2b",
   "metadata": {},
   "outputs": [],
   "source": [
    "#Categorical variable reduction by median_rating.  Uses movies_df dataframe  \n",
    "#Insert 1. 'column' in quotes 2. minimum movie apperances (inclusive) 3. maximum movie apperances (inclusive)\n",
    "#Returns a dataframe\n",
    "def reduce_median_df(df, column, min, max):\n",
    "    column_medians = df.groupby([column]).median()['score']\n",
    "    new_df = df[df[column].map(df.groupby([column]).median()['score']) >= column_medians.quantile(min)]\n",
    "    new_df2 = new_df[new_df[column].map(new_df.groupby([column]).median()['score']) <= column_medians.quantile(max)]\n",
    "    return new_df2"
   ]
  },
  {
   "cell_type": "markdown",
   "id": "856cdf98",
   "metadata": {},
   "source": [
    "## Descriptive Statistics Analysis"
   ]
  },
  {
   "cell_type": "markdown",
   "id": "3e2b884a",
   "metadata": {},
   "source": [
    "### Categorical Ordered by Count"
   ]
  },
  {
   "cell_type": "code",
   "execution_count": 215,
   "id": "f8039aee",
   "metadata": {},
   "outputs": [],
   "source": [
    "#insert dataframe and 'column' in quote\n",
    "def cat_count(df, column):   \n",
    "    #Column values and column value counts\n",
    "    column_counts = df[column].value_counts()\n",
    "    #Put column counts in a dataframe\n",
    "    column_counts_df = pd.DataFrame(column_counts).rename(columns={column: \"Count\"})\n",
    "    #Put the values in a list\n",
    "    column_values_list = column_counts.index.to_list()\n",
    "    \n",
    "    #Get scores by column value\n",
    "    value_scores = []\n",
    "    for value in column_values_list:\n",
    "        value_df = df.loc[df[column] == value]\n",
    "        value_score = value_df['score'].to_list()\n",
    "        value_scores.append(value_score)\n",
    "    \n",
    "    #Bargraph of column counts\n",
    "    length = len(column_values_list)\n",
    "    width = column_counts_df['Count'].max()\n",
    "    column_bar = column_counts_df.plot.barh(figsize = (15, length * .5))\n",
    "    column_bar.set_title(f\"Number of Movies by {column}\",fontsize=20)\n",
    "    column_bar.set_xlabel(\"Count\",fontsize=14)\n",
    "    column_bar.set_ylabel(f\"{column}\",fontsize=14) \n",
    "    column_bar.legend(loc = 'lower right')\n",
    "    plt.gca().invert_yaxis()\n",
    "\n",
    "    #Add counts to bar graph\n",
    "    for i, v in enumerate(column_counts):\n",
    "        column_bar.text(v , i , str(v),\n",
    "            color = 'black', fontweight = 'bold')\n",
    "    \n",
    "    plt.show()\n",
    "    \n",
    "    #Box plot for values and and value scores\n",
    "    y_labels = column_values_list\n",
    "    x_values = value_scores\n",
    "    fig, ax = plt.subplots(figsize=(10, length * .3 ))\n",
    "    ax.set_title(f'Score by {column}', fontsize=20)\n",
    "    ax.set_xlabel(\"Scores\", fontsize=14)\n",
    "    ax.set_ylabel(column, fontsize=14)\n",
    "    ax.boxplot(x_values, labels=y_labels, vert=False)\n",
    "    plt.gca().invert_yaxis()\n",
    "    ax.grid()\n",
    "    # Save the figure.\n",
    "\n",
    "    plt.show()\n",
    "\n",
    "    print(f'All {column} Scores Descriptive Statistics')\n",
    "    print(movies_df.groupby([column]).mean()['score'].describe())"
   ]
  },
  {
   "cell_type": "markdown",
   "id": "7310753f",
   "metadata": {},
   "source": [
    "### Categorical Ordered by Median Score"
   ]
  },
  {
   "cell_type": "code",
   "execution_count": 250,
   "id": "8e02ab84",
   "metadata": {},
   "outputs": [],
   "source": [
    "#insert dataframe and 'column' in quote\n",
    "def cat_median(df, column):   \n",
    "    #Column values and column value counts\n",
    "    column_counts = df[column].value_counts()\n",
    "    #Put column counts in a dataframe\n",
    "    column_counts_df = pd.DataFrame(column_counts).rename(columns={column: \"Count\"})\n",
    "    column_counts_df = column_counts_df.reset_index()\n",
    "    #Get Medians\n",
    "    median_df = df.groupby([column]).median()[['score']]\n",
    "\n",
    "    #Merge\n",
    "    merged_df = column_counts_df.merge(median_df, left_on='index', right_on=f'{column}')\n",
    "    sorted_df = merged_df.sort_values(by='score')\n",
    "    final_df = sorted_df.set_index('index')\n",
    "\n",
    "    #Put the values in a list\n",
    "    column_values_list = final_df.index.to_list()\n",
    "\n",
    "    #Get scores by column value\n",
    "    value_scores = []\n",
    "    for value in column_values_list:\n",
    "        value_df = df.loc[df[column] == value]\n",
    "        value_score = value_df['score'].to_list()\n",
    "        value_scores.append(value_score)\n",
    "\n",
    "    #Bargraph of column counts\n",
    "    width = 15\n",
    "    maximum = column_counts_df['Count'].max()\n",
    "    if maximum < 15:\n",
    "        width = maximum\n",
    "    length = len(column_values_list)\n",
    "    \n",
    "    length = len(column_values_list)\n",
    "    column_bar = final_df[['Count']].plot.barh(figsize = (width * .5, length * .5))\n",
    "    column_bar.set_title(f\"Number of Movies by {column}\",fontsize=20)\n",
    "    column_bar.set_xlabel(\"Count\",fontsize=14)\n",
    "    column_bar.set_ylabel(f\"{column}\",fontsize=14) \n",
    "    column_bar.legend(loc = 'lower right')\n",
    "\n",
    "    #Add counts to bar graph\n",
    "    for i, v in enumerate(sorted_df['Count']):\n",
    "        column_bar.text(v , i , str(v),\n",
    "            color = 'black', fontweight = 'bold')\n",
    "\n",
    "    plt.show()\n",
    "\n",
    "    #Box plot for values and and value scores\n",
    "    y_labels = column_values_list\n",
    "    x_values = value_scores\n",
    "    fig, ax = plt.subplots(figsize=(10, length * .3 ))\n",
    "    ax.set_title(f'Score by {column}', fontsize=20)\n",
    "    ax.set_xlabel(\"Scores\", fontsize=14)\n",
    "    ax.set_ylabel(column, fontsize=14)\n",
    "    ax.boxplot(x_values, labels=y_labels, vert=False)\n",
    "    ax.grid()\n",
    "    # Save the figure.\n",
    "\n",
    "    plt.show()\n",
    "\n",
    "    print(f'All {column} Scores Descriptive Statistics')\n",
    "    print(movies_df.groupby([column]).mean()['score'].describe())"
   ]
  },
  {
   "cell_type": "code",
   "execution_count": null,
   "id": "38a459a5",
   "metadata": {},
   "outputs": [],
   "source": [
    "if sorted_df['Count'].max < 15\n",
    "    width = sorted_df['Count'].max"
   ]
  },
  {
   "cell_type": "markdown",
   "id": "53220409",
   "metadata": {},
   "source": [
    "### Numeric Ordered by Median"
   ]
  },
  {
   "cell_type": "code",
   "execution_count": 282,
   "id": "78044873",
   "metadata": {},
   "outputs": [],
   "source": [
    "#insert 1. dataframe 2. 'column' in quotes 3/4. min/max display quantile in decimals (ex: .xx) \n",
    "def num_desc(df, column, x_min, x_max):\n",
    "    \n",
    "    # Create a box-and-whisker plot for the urban cities ride count.\n",
    "    fig, ax = plt.subplots()\n",
    "    ax.boxplot(movies_df[column], labels=[\"\"],vert=False)\n",
    "    # Add the title, y-axis label and grid.\n",
    "    ax.set_title(column, fontsize=20)\n",
    "    ax.set_xlabel('Score')\n",
    "    ax.set_xlim(df[column].quantile(x_min), df[column].quantile(x_max))\n",
    "    \n",
    "    ax.grid()\n",
    "    plt.show()\n",
    "    \n",
    "    # Plot actual vs. predicted rating\n",
    "    fig, ax = plt.subplots(figsize=(10, 13))\n",
    "    ax.scatter(df[column], df['score'],)\n",
    "    ax.set_xlim(df[column].quantile(x_min), df[column].quantile(x_max))\n",
    "    plt.title(f'{column} versus Score',fontsize=20)\n",
    "    ax.set_xlabel(column, fontsize=14)\n",
    "    ax.set_ylabel('Scores', fontsize=14)\n",
    "\n",
    "    ax.grid()\n",
    "    plt.show()\n",
    "    \n",
    "    print(f'All {column} Scores Descriptive Statistics')\n",
    "    print(df[column].describe())"
   ]
  },
  {
   "cell_type": "markdown",
   "id": "af449c0b",
   "metadata": {},
   "source": [
    "# Summary of Functions"
   ]
  },
  {
   "cell_type": "code",
   "execution_count": null,
   "id": "b8e62758",
   "metadata": {},
   "outputs": [],
   "source": [
    "#Obtain column value descriptive stats to determine count parameters\n",
    "#Insert 1. 'column' in quotes 2. minimum quantile of dataframe to include\n",
    "#count_cutoff(column, min_quantile)"
   ]
  },
  {
   "cell_type": "markdown",
   "id": "3dc421ed",
   "metadata": {},
   "source": [
    "### DataFrame Adjustments"
   ]
  },
  {
   "cell_type": "code",
   "execution_count": 50,
   "id": "26fd2167",
   "metadata": {},
   "outputs": [],
   "source": [
    "##Adjustments by Count\n",
    "#count_df =  reduce_rawCount_df('column', min_count, max_count)\n",
    "#count_df = reduce_quantileCount_df('column', count_quantile_min, count__quantile_max)\n",
    "\n",
    "#Adjustments by Category Median Score\n",
    "#median_df = reduce_median_df('column', quantile_min, quantile_max)"
   ]
  },
  {
   "cell_type": "markdown",
   "id": "bd208c2e",
   "metadata": {},
   "source": [
    "### Descriptive Stats"
   ]
  },
  {
   "cell_type": "code",
   "execution_count": 42,
   "id": "2bb8f137",
   "metadata": {},
   "outputs": [],
   "source": [
    "#Ordered by 1.Categorical Count 2. Categorical Median 3. Numeric Median\n",
    "###NOTE: Numeric variables are not naturally binned and so are not described by count\n",
    "#1. cat_count(df, 'column')\n",
    "#2. cat_median(df, 'column')\n",
    "#3. num_desc(df, 'column', percentile_min, percentile_max)"
   ]
  },
  {
   "cell_type": "markdown",
   "id": "5b71b911",
   "metadata": {},
   "source": [
    "### Variables"
   ]
  },
  {
   "cell_type": "code",
   "execution_count": 43,
   "id": "0bc411f0",
   "metadata": {},
   "outputs": [],
   "source": [
    "##Categorical\n",
    "# rating\n",
    "# genre\n",
    "# year\n",
    "# director\n",
    "# writer\n",
    "# star\n",
    "# country\n",
    "# company\n",
    "\n",
    "##Numeric\n",
    "# votes\n",
    "# gross\n",
    "# runtime"
   ]
  },
  {
   "cell_type": "markdown",
   "id": "25e40543",
   "metadata": {},
   "source": [
    "# Analysis"
   ]
  },
  {
   "cell_type": "markdown",
   "id": "c7dc8ba7",
   "metadata": {},
   "source": [
    "### Score (for context)"
   ]
  },
  {
   "cell_type": "code",
   "execution_count": 290,
   "id": "445badb7",
   "metadata": {},
   "outputs": [
    {
     "data": {
      "image/png": "[encoded data removed]",
      "text/plain": [
       "<Figure size 432x288 with 1 Axes>"
      ]
     },
     "metadata": {
      "needs_background": "light"
     },
     "output_type": "display_data"
    },
    {
     "data": {
      "image/png": "[encoded data removed]",
      "text/plain": [
       "<Figure size 720x936 with 1 Axes>"
      ]
     },
     "metadata": {
      "needs_background": "light"
     },
     "output_type": "display_data"
    },
    {
     "name": "stdout",
     "output_type": "stream",
     "text": [
      "All score Scores Descriptive Statistics\n",
      "count   7,412.00\n",
      "mean        6.40\n",
      "std         0.96\n",
      "min         1.90\n",
      "25%         5.80\n",
      "50%         6.50\n",
      "75%         7.10\n",
      "max         9.30\n",
      "Name: score, dtype: float64\n"
     ]
    }
   ],
   "source": [
    "num_desc(movies_df, 'score', .01, 1)"
   ]
  },
  {
   "cell_type": "markdown",
   "id": "41ecefad",
   "metadata": {},
   "source": [
    "### Company"
   ]
  },
  {
   "cell_type": "code",
   "execution_count": 253,
   "id": "2bcb0ab8",
   "metadata": {},
   "outputs": [
    {
     "name": "stdout",
     "output_type": "stream",
     "text": [
      "Top  92.0% of company appearances in the movie dataframe\n",
      "Universal Pictures               376\n",
      "Warner Bros.                     332\n",
      "Columbia Pictures                332\n",
      "Paramount Pictures               319\n",
      "Twentieth Century Fox            240\n",
      "                                ... \n",
      "Palace Pictures                    5\n",
      "Vision PDG                         5\n",
      "Weintraub Entertainment Group      5\n",
      "Alive Films                        5\n",
      "Bona Film Group                    5\n",
      "Name: company, Length: 200, dtype: int64\n",
      "\n",
      "Sum and Percent Total of Dataframe\n",
      "4672\n",
      "63.03291958985429\n",
      "\n",
      "All company Count Descriptive Stats and Boxplot\n",
      "count   2,242.00\n",
      "mean        3.31\n",
      "std        17.10\n",
      "min         1.00\n",
      "25%         1.00\n",
      "50%         1.00\n",
      "75%         2.00\n",
      "max       376.00\n",
      "Name: company, dtype: float64\n"
     ]
    },
    {
     "data": {
      "image/png": "[encoded data removed]",
      "text/plain": [
       "<Figure size 432x288 with 1 Axes>"
      ]
     },
     "metadata": {
      "needs_background": "light"
     },
     "output_type": "display_data"
    }
   ],
   "source": [
    "count_cutoff(\"company\", .92)"
   ]
  },
  {
   "cell_type": "code",
   "execution_count": 270,
   "id": "eaabe41a",
   "metadata": {},
   "outputs": [],
   "source": [
    "company_df =  reduce_rawCount_df('company', 5, 9999)\n",
    "company_df = reduce_median_df(company_df, 'company', .975, 1)"
   ]
  },
  {
   "cell_type": "code",
   "execution_count": 271,
   "id": "ebb47552",
   "metadata": {},
   "outputs": [
    {
     "data": {
      "image/png": "[encoded data removed]",
      "text/plain": [
       "<Figure size 432x252 with 1 Axes>"
      ]
     },
     "metadata": {
      "needs_background": "light"
     },
     "output_type": "display_data"
    },
    {
     "data": {
      "image/png": "[encoded data removed]",
      "text/plain": [
       "<Figure size 720x151.2 with 1 Axes>"
      ]
     },
     "metadata": {
      "needs_background": "light"
     },
     "output_type": "display_data"
    },
    {
     "name": "stdout",
     "output_type": "stream",
     "text": [
      "All company Scores Descriptive Statistics\n",
      "count   2,242.00\n",
      "mean        6.43\n",
      "std         0.95\n",
      "min         1.90\n",
      "25%         5.90\n",
      "50%         6.50\n",
      "75%         7.10\n",
      "max         8.60\n",
      "Name: score, dtype: float64\n"
     ]
    }
   ],
   "source": [
    "cat_median(company_df2, 'company')"
   ]
  },
  {
   "cell_type": "markdown",
   "id": "79110f19",
   "metadata": {},
   "source": [
    "### Actor"
   ]
  },
  {
   "cell_type": "code",
   "execution_count": 269,
   "id": "b514c680",
   "metadata": {},
   "outputs": [
    {
     "name": "stdout",
     "output_type": "stream",
     "text": [
      "Top  87.0% of star appearances in the movie dataframe\n",
      "Nicolas Cage         43\n",
      "Robert De Niro       41\n",
      "Tom Hanks            41\n",
      "Denzel Washington    37\n",
      "Bruce Willis         34\n",
      "                     ..\n",
      "Bill Pullman          5\n",
      "Cillian Murphy        5\n",
      "Treat Williams        5\n",
      "Frances McDormand     5\n",
      "Kevin Hart            5\n",
      "Name: star, Length: 368, dtype: int64\n",
      "\n",
      "Sum and Percent Total of Dataframe\n",
      "4076\n",
      "54.99190501888829\n",
      "\n",
      "All star Count Descriptive Stats and Boxplot\n",
      "count   2,652.00\n",
      "mean        2.79\n",
      "std         4.30\n",
      "min         1.00\n",
      "25%         1.00\n",
      "50%         1.00\n",
      "75%         2.00\n",
      "max        43.00\n",
      "Name: star, dtype: float64\n"
     ]
    },
    {
     "data": {
      "image/png": "[encoded data removed]",
      "text/plain": [
       "<Figure size 432x288 with 1 Axes>"
      ]
     },
     "metadata": {
      "needs_background": "light"
     },
     "output_type": "display_data"
    }
   ],
   "source": [
    "count_cutoff(\"star\", .87)"
   ]
  },
  {
   "cell_type": "code",
   "execution_count": 278,
   "id": "1e837afc",
   "metadata": {},
   "outputs": [
    {
     "data": {
      "text/plain": [
       "count   4,076.00\n",
       "mean        6.46\n",
       "std         0.85\n",
       "min         1.90\n",
       "25%         5.90\n",
       "50%         6.50\n",
       "75%         7.00\n",
       "max         9.30\n",
       "Name: score, dtype: float64"
      ]
     },
     "execution_count": 278,
     "metadata": {},
     "output_type": "execute_result"
    }
   ],
   "source": [
    "reduce_rawCount_df('star', 5, 999)['score'].describe()"
   ]
  },
  {
   "cell_type": "code",
   "execution_count": 279,
   "id": "a698600b",
   "metadata": {},
   "outputs": [
    {
     "data": {
      "text/plain": [
       "count   3,336.00\n",
       "mean        6.32\n",
       "std         1.08\n",
       "min         1.90\n",
       "25%         5.70\n",
       "50%         6.40\n",
       "75%         7.10\n",
       "max         8.70\n",
       "Name: score, dtype: float64"
      ]
     },
     "execution_count": 279,
     "metadata": {},
     "output_type": "execute_result"
    }
   ],
   "source": [
    "reduce_rawCount_df('star', 0, 4)['score'].describe()"
   ]
  },
  {
   "cell_type": "code",
   "execution_count": null,
   "id": "564c3a78",
   "metadata": {},
   "outputs": [],
   "source": []
  }
 ],
 "metadata": {
  "kernelspec": {
   "display_name": "Python 3 (ipykernel)",
   "language": "python",
   "name": "python3"
  },
  "language_info": {
   "codemirror_mode": {
    "name": "ipython",
    "version": 3
   },
   "file_extension": ".py",
   "mimetype": "text/x-python",
   "name": "python",
   "nbconvert_exporter": "python",
   "pygments_lexer": "ipython3",
   "version": "3.8.8"
  }
 },
 "nbformat": 4,
 "nbformat_minor": 5
}

{
 "cells": [
  {
   "cell_type": "code",
   "execution_count": 20,
   "id": "0343621f",
   "metadata": {},
   "outputs": [],
   "source": [
    "# Add Matplotlib inline magic command\n",
    "%matplotlib inline\n",
    "# Dependencies and Setup\n",
    "import pandas as pd\n",
    "import matplotlib.pyplot as plt\n",
    "from scipy.stats import linregress\n",
    "\n",
    "#Formatting describe()\n",
    "pd.options.display.float_format = '{:,.2f}'.format"
   ]
  },
  {
   "cell_type": "code",
   "execution_count": 21,
   "id": "1abfc852",
   "metadata": {},
   "outputs": [],
   "source": [
    "# Load cleaned_movies into DataFrame\n",
    "movies_df = pd.read_csv('movies_final.csv')\n",
    "#movies_df.head()"
   ]
  },
  {
   "cell_type": "code",
   "execution_count": 198,
   "id": "6aa97d58",
   "metadata": {},
   "outputs": [],
   "source": [
    "# Drop Unnamed column\n",
    "movies_df = movies_df.loc[:,~movies_df.columns.str.contains('^Unnamed')]\n",
    "#movies_df.describe()"
   ]
  },
  {
   "cell_type": "markdown",
   "id": "01e48012",
   "metadata": {},
   "source": [
    "# Functions"
   ]
  },
  {
   "cell_type": "markdown",
   "id": "512b66eb",
   "metadata": {},
   "source": [
    "### Recommended: Column Count Descriptive Stats"
   ]
  },
  {
   "cell_type": "code",
   "execution_count": 185,
   "id": "a699f10e",
   "metadata": {},
   "outputs": [],
   "source": [
    "#Obtain column value descriptive stats to determine count parameters\n",
    "#Insert 1. 'column' in quotes 2. minimum quantile of dataframe to include\n",
    "def count_cutoff(column, min):\n",
    "    print(f\"Top {min*100: .1f}% of {column} appearances in the movie dataframe\")\n",
    "    cutoff_df = movies_df[movies_df[column].map(movies_df[column].value_counts()) \\\n",
    "                    >= movies_df[column].value_counts().quantile(min)][column].value_counts()\n",
    "    print(cutoff_df)\n",
    "    print(\"\\nSum and Percent Total of Dataframe\")\n",
    "    print(cutoff_df.sum())\n",
    "    print(cutoff_df.sum() / 7412 * 100)\n",
    "    print(f\"\\nAll {column} Count Descriptive Stats and Boxplot\")\n",
    "    print(movies_df[column].value_counts().describe())\n",
    "    movies_df[column].value_counts().to_frame().boxplot(vert=False)\n",
    "    plt.show()"
   ]
  },
  {
   "cell_type": "markdown",
   "id": "e15b4bde",
   "metadata": {},
   "source": [
    "## Dataframe Adjustments by Column Count\n",
    "Recommend Using count_cutoff first to determine min/max"
   ]
  },
  {
   "cell_type": "markdown",
   "id": "344a6b8c",
   "metadata": {},
   "source": [
    "### Adjust Category Count Range by Raw Count"
   ]
  },
  {
   "cell_type": "code",
   "execution_count": 122,
   "id": "1353c7a1",
   "metadata": {},
   "outputs": [],
   "source": [
    "#Categorical variable reduction by value_count.  Uses movies_df dataframe  \n",
    "#Insert 1. 'column' in quotes 2. minimum movie apperances (inclusive) 3. maximum movie apperances (inclusive)\n",
    "#Returns a dataframe\n",
    "def reduce_rawCount_df(column, min, max):\n",
    "    df = movies_df[movies_df[column].map(movies_df[column].value_counts()) >= min]\n",
    "    df = df[df[column].map(df[column].value_counts()) <= max]\n",
    "    return df"
   ]
  },
  {
   "cell_type": "markdown",
   "id": "0e1c1804",
   "metadata": {},
   "source": [
    "### Adjust Category Count Range by Quantile"
   ]
  },
  {
   "cell_type": "code",
   "execution_count": 6,
   "id": "5fb542a7",
   "metadata": {},
   "outputs": [],
   "source": [
    "#Categorical variable reduction by value_count.  Uses movies_df dataframe  \n",
    "#Insert 1. 'column' in quotes 2. minimum movie apperances by quantile (inclusive) 3. maximum movie apperances by quantile (inclusive)\n",
    "#Returns a dataframe\n",
    "def reduce_quantileCount_df(column, min, max):\n",
    "    df = movies_df[movies_df[column].map(movies_df[column].value_counts()) >= movies_df['genre'].value_counts().quantile(min)]\n",
    "    df = df[df[column].map(df[column].value_counts()) <= movies_df['genre'].value_counts().quantile(max)]\n",
    "    return df"
   ]
  },
  {
   "cell_type": "markdown",
   "id": "fdeeef0d",
   "metadata": {},
   "source": [
    "## Dataframe Adjustment by Category Score"
   ]
  },
  {
   "cell_type": "markdown",
   "id": "1b97c9d9",
   "metadata": {},
   "source": [
    "### Adjust Median Category Score Range by Quantile"
   ]
  },
  {
   "cell_type": "code",
   "execution_count": 13,
   "id": "08ec0de2",
   "metadata": {},
   "outputs": [],
   "source": [
    "#Categorical variable reduction by median_rating.  Uses movies_df dataframe  \n",
    "#Insert 1. 'column' in quotes 2. minimum movie apperances (inclusive) 3. maximum movie apperances (inclusive)\n",
    "#Returns a dataframe\n",
    "def reduce_median_df(column, min, max):\n",
    "    column_medians = movies_df.groupby([column]).median()['score']\n",
    "    df = movies_df[movies_df[column].map(movies_df.groupby([column]).median()['score']) >= column_medians.quantile(min)]\n",
    "    df = df[df[column].map(df.groupby([column]).median()['score']) <= column_medians.quantile(max)]\n",
    "    return df"
   ]
  },
  {
   "cell_type": "markdown",
   "id": "856cdf98",
   "metadata": {},
   "source": [
    "## Descriptive Statistics Analysis"
   ]
  },
  {
   "cell_type": "markdown",
   "id": "a40aa5e6",
   "metadata": {},
   "source": [
    "### Categorical Ordered by Count"
   ]
  },
  {
   "cell_type": "code",
   "execution_count": 47,
   "id": "f8039aee",
   "metadata": {},
   "outputs": [],
   "source": [
    "#insert dataframe and 'column' in quote\n",
    "def cat_count(df, column):   \n",
    "    #Column values and column value counts\n",
    "    column_counts = df[column].value_counts()\n",
    "    #Put column counts in a dataframe\n",
    "    column_counts_df = pd.DataFrame(column_counts).rename(columns={column: \"Count\"})\n",
    "    #Put the values in a list\n",
    "    column_values_list = column_counts.index.to_list()\n",
    "    \n",
    "    #Get scores by column value\n",
    "    value_scores = []\n",
    "    for value in column_values_list:\n",
    "        value_df = df.loc[df[column] == value]\n",
    "        value_score = value_df['score'].to_list()\n",
    "        value_scores.append(value_score)\n",
    "    \n",
    "    #Bargraph of column counts\n",
    "    length = len(column_values_list)\n",
    "    width = column_counts_df['Count'].max()\n",
    "    column_bar = column_counts_df.plot.barh(figsize = (15, length * .5))\n",
    "    column_bar.set_title(f\"Number of Movies by {column}\",fontsize=20)\n",
    "    column_bar.set_xlabel(\"Count\",fontsize=14)\n",
    "    column_bar.set_ylabel(f\"{column}\",fontsize=14) \n",
    "    column_bar.legend(loc = 'lower right')\n",
    "    plt.gca().invert_yaxis()\n",
    "\n",
    "    #Add counts to bar graph\n",
    "    for i, v in enumerate(column_counts):\n",
    "        column_bar.text(v , i , str(v),\n",
    "            color = 'black', fontweight = 'bold')\n",
    "    \n",
    "    plt.show()\n",
    "    \n",
    "    #Box plot for values and and value scores\n",
    "    y_labels = column_values_list\n",
    "    x_values = value_scores\n",
    "    fig, ax = plt.subplots(figsize=(10, length * .3 ))\n",
    "    ax.set_title(f'Score by {column}', fontsize=20)\n",
    "    ax.set_xlabel(\"Scores\", fontsize=14)\n",
    "    ax.set_ylabel(column, fontsize=14)\n",
    "    ax.boxplot(x_values, labels=y_labels, vert=False)\n",
    "    plt.gca().invert_yaxis()\n",
    "    ax.grid()\n",
    "    # Save the figure.\n",
    "\n",
    "    plt.show()\n",
    "\n",
    "    print(f'All {column} Scores Descriptive Statistics')\n",
    "    print(movies_df.groupby([column]).mean()['score'].describe())"
   ]
  },
  {
   "cell_type": "markdown",
   "id": "7310753f",
   "metadata": {},
   "source": [
    "### Categorical Ordered by Median Score"
   ]
  },
  {
   "cell_type": "code",
   "execution_count": 48,
   "id": "8e02ab84",
   "metadata": {},
   "outputs": [],
   "source": [
    "#insert dataframe and 'column' in quote\n",
    "def cat_median(df, column):   \n",
    "    #Column values and column value counts\n",
    "    column_counts = df[column].value_counts()\n",
    "    #Put column counts in a dataframe\n",
    "    column_counts_df = pd.DataFrame(column_counts).rename(columns={column: \"Count\"})\n",
    "    column_counts_df = column_counts_df.reset_index()\n",
    "    #Get Medians\n",
    "    median_df = df.groupby([column]).median()[['score']]\n",
    "\n",
    "    #Merge\n",
    "    merged_df = column_counts_df.merge(median_df, left_on='index', right_on=f'{column}')\n",
    "    sorted_df = merged_df.sort_values(by='score')\n",
    "    final_df = sorted_df.set_index('index')\n",
    "\n",
    "    #Put the values in a list\n",
    "    column_values_list = final_df.index.to_list()\n",
    "\n",
    "    #Get scores by column value\n",
    "    value_scores = []\n",
    "    for value in column_values_list:\n",
    "        value_df = df.loc[df[column] == value]\n",
    "        value_score = value_df['score'].to_list()\n",
    "        value_scores.append(value_score)\n",
    "\n",
    "    #Bargraph of column counts\n",
    "    length = len(column_values_list)\n",
    "    column_bar = final_df[['Count']].plot.barh(figsize = (15, length * .5))\n",
    "    column_bar.set_title(f\"Number of Movies by {column}\",fontsize=20)\n",
    "    column_bar.set_xlabel(\"Count\",fontsize=14)\n",
    "    column_bar.set_ylabel(f\"{column}\",fontsize=14) \n",
    "    column_bar.legend(loc = 'lower right')\n",
    "\n",
    "    #Add counts to bar graph\n",
    "    for i, v in enumerate(sorted_df['Count']):\n",
    "        column_bar.text(v , i , str(v),\n",
    "            color = 'black', fontweight = 'bold')\n",
    "\n",
    "    plt.show()\n",
    "\n",
    "    #Box plot for values and and value scores\n",
    "    y_labels = column_values_list\n",
    "    x_values = value_scores\n",
    "    fig, ax = plt.subplots(figsize=(10, length * .3 ))\n",
    "    ax.set_title(f'Score by {column}', fontsize=20)\n",
    "    ax.set_xlabel(\"Scores\", fontsize=14)\n",
    "    ax.set_ylabel(column, fontsize=14)\n",
    "    ax.boxplot(x_values, labels=y_labels, vert=False)\n",
    "    ax.grid()\n",
    "    # Save the figure.\n",
    "\n",
    "    plt.show()\n",
    "\n",
    "    print(f'All {column} Scores Descriptive Statistics')\n",
    "    print(movies_df.groupby([column]).mean()['score'].describe())"
   ]
  },
  {
   "cell_type": "markdown",
   "id": "53220409",
   "metadata": {},
   "source": [
    "### Numeric Ordered by Median"
   ]
  },
  {
   "cell_type": "code",
   "execution_count": 49,
   "id": "78044873",
   "metadata": {},
   "outputs": [],
   "source": [
    "#insert 1. dataframe 2. 'column' in quotes 3/4. min/max display quantile in decimals (ex: .xx) \n",
    "def num_desc(df, column, x_min, x_max):\n",
    "    \n",
    "    # Create a box-and-whisker plot for the urban cities ride count.\n",
    "    fig, ax = plt.subplots()\n",
    "    ax.boxplot(movies_df[column], labels=[\"\"],vert=False)\n",
    "    # Add the title, y-axis label and grid.\n",
    "    ax.set_title(column, fontsize=20)\n",
    "    ax.set_xlabel('Movie length (min)')\n",
    "    ax.set_xlim(df[column].quantile(x_min), df[column].quantile(x_max))\n",
    "    \n",
    "    ax.grid()\n",
    "    plt.show()\n",
    "    \n",
    "    # Plot actual vs. predicted rating\n",
    "    fig, ax = plt.subplots(figsize=(10, 13))\n",
    "    ax.scatter(df[column], df['score'],)\n",
    "    ax.set_xlim(df[column].quantile(x_min), df[column].quantile(x_max))\n",
    "    plt.title(f'{column} versus Score',fontsize=20)\n",
    "    ax.set_xlabel(column, fontsize=14)\n",
    "    ax.set_ylabel('Scores', fontsize=14)\n",
    "\n",
    "    ax.grid()\n",
    "    plt.show()\n",
    "    \n",
    "    print(f'All {column} Scores Descriptive Statistics')\n",
    "    print(df[column].describe())"
   ]
  },
  {
   "cell_type": "markdown",
   "id": "af449c0b",
   "metadata": {},
   "source": [
    "# Summary of Functions"
   ]
  },
  {
   "cell_type": "code",
   "execution_count": null,
   "id": "659d66e6",
   "metadata": {},
   "outputs": [],
   "source": [
    "#Obtain column value descriptive stats to determine count parameters\n",
    "#Insert 1. 'column' in quotes 2. minimum quantile of dataframe to include\n",
    "#count_cutoff(column, min_quantile):"
   ]
  },
  {
   "cell_type": "markdown",
   "id": "6a7e090f",
   "metadata": {},
   "source": [
    "### DataFrame Adjustments"
   ]
  },
  {
   "cell_type": "code",
   "execution_count": 50,
   "id": "26fd2167",
   "metadata": {},
   "outputs": [],
   "source": [
    "##Adjustments by Count\n",
    "#count_df =  reduce_rawCount_df('column', min_count, max_count)\n",
    "#count_df = reduce_quantileCount_df('column', count_quantile_min, count__quantile_max)\n",
    "\n",
    "#Adjustments by Category Median Score\n",
    "#median_df = reduce_median_df('column', quantile_min, quantile_max)"
   ]
  },
  {
   "cell_type": "markdown",
   "id": "5fbcf46b",
   "metadata": {},
   "source": [
    "### Descriptive Stats"
   ]
  },
  {
   "cell_type": "code",
   "execution_count": 42,
   "id": "7600e632",
   "metadata": {},
   "outputs": [],
   "source": [
    "#Ordered by 1.Categorical Count 2. Categorical Median 3. Numeric Median\n",
    "###NOTE: Numeric variables are not naturally binned and so are not described by count\n",
    "#1. cat_count(df, 'column')\n",
    "#2. cat_median(df, 'column')\n",
    "#3. num_desc(df, 'column', percentile_min, percentile_max)"
   ]
  },
  {
   "cell_type": "markdown",
   "id": "92fec8c1",
   "metadata": {},
   "source": [
    "### Variables"
   ]
  },
  {
   "cell_type": "code",
   "execution_count": 43,
   "id": "73ec17d8",
   "metadata": {},
   "outputs": [],
   "source": [
    "##Categorical\n",
    "# rating\n",
    "# genre\n",
    "# year\n",
    "# director\n",
    "# writer\n",
    "# star\n",
    "# country\n",
    "# company\n",
    "\n",
    "##Numeric\n",
    "# votes\n",
    "# gross\n",
    "# runtime"
   ]
  },
  {
   "cell_type": "markdown",
   "id": "25e40543",
   "metadata": {},
   "source": [
    "# Analysis"
   ]
  },
  {
   "cell_type": "code",
   "execution_count": null,
   "id": "156995d4",
   "metadata": {},
   "outputs": [],
   "source": []
  }
 ],
 "metadata": {
  "kernelspec": {
   "display_name": "Python 3 (ipykernel)",
   "language": "python",
   "name": "python3"
  },
  "language_info": {
   "codemirror_mode": {
    "name": "ipython",
    "version": 3
   },
   "file_extension": ".py",
   "mimetype": "text/x-python",
   "name": "python",
   "nbconvert_exporter": "python",
   "pygments_lexer": "ipython3",
   "version": "3.8.8"
  }
 },
 "nbformat": 4,
 "nbformat_minor": 5
}
